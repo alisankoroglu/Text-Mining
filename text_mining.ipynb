{
 "cells": [
  {
   "cell_type": "markdown",
   "id": "e32c0214-03cf-43b9-9413-3f3430d20afb",
   "metadata": {
    "jp-MarkdownHeadingCollapsed": true
   },
   "source": [
    "# Basic String Operations"
   ]
  },
  {
   "cell_type": "markdown",
   "id": "116280da-6b10-4bc6-b698-410b02e01408",
   "metadata": {
    "jp-MarkdownHeadingCollapsed": true
   },
   "source": [
    "## Creation and Formatting"
   ]
  },
  {
   "cell_type": "code",
   "execution_count": 4,
   "id": "ac33a3b8-4372-48ec-9962-520720d29caa",
   "metadata": {},
   "outputs": [],
   "source": [
    "name = \"alisan\""
   ]
  },
  {
   "cell_type": "code",
   "execution_count": 5,
   "id": "4b211013-064c-4e79-a3d0-8e288c03ca93",
   "metadata": {},
   "outputs": [
    {
     "data": {
      "text/plain": [
       "'alisanalisanalisan'"
      ]
     },
     "execution_count": 5,
     "metadata": {},
     "output_type": "execute_result"
    }
   ],
   "source": [
    "3 * name"
   ]
  },
  {
   "cell_type": "code",
   "execution_count": 6,
   "id": "2a0d7684-8c2f-4c2d-ada8-58955f82cec2",
   "metadata": {},
   "outputs": [
    {
     "data": {
      "text/plain": [
       "'alisankoroglu'"
      ]
     },
     "execution_count": 6,
     "metadata": {},
     "output_type": "execute_result"
    }
   ],
   "source": [
    "\"alisan\" + \"koroglu\""
   ]
  },
  {
   "cell_type": "code",
   "execution_count": 8,
   "id": "f240b545-b55a-4bf5-a1fe-6ebf02080690",
   "metadata": {},
   "outputs": [
    {
     "data": {
      "text/plain": [
       "'Elisan'"
      ]
     },
     "execution_count": 8,
     "metadata": {},
     "output_type": "execute_result"
    }
   ],
   "source": [
    "\"E\" + name[1:]"
   ]
  },
  {
   "cell_type": "code",
   "execution_count": 9,
   "id": "a022e9a5-1bad-4825-b07c-b07270d6040f",
   "metadata": {},
   "outputs": [],
   "source": [
    "names = [\"ali\", \"veli\", \"ayşe\"]"
   ]
  },
  {
   "cell_type": "code",
   "execution_count": 10,
   "id": "b44b4d76-abd9-402a-aaed-c9e74d85e1bf",
   "metadata": {},
   "outputs": [
    {
     "name": "stdout",
     "output_type": "stream",
     "text": [
      "names: ali\n",
      "names: veli\n",
      "names: ayşe\n"
     ]
    }
   ],
   "source": [
    "for i in names:\n",
    "    print(\"names: \", i,sep = \"\")"
   ]
  },
  {
   "cell_type": "code",
   "execution_count": 11,
   "id": "fdbb21ed-a636-47fb-a720-3ed86930b3b7",
   "metadata": {},
   "outputs": [
    {
     "name": "stdout",
     "output_type": "stream",
     "text": [
      "_ali\n",
      "_veli\n",
      "_ayşe\n"
     ]
    }
   ],
   "source": [
    "for i in names:\n",
    "    print(\"_\", i[0:], sep = \"\")"
   ]
  },
  {
   "cell_type": "code",
   "execution_count": 12,
   "id": "2f929df9-3c5a-4e4c-8fb0-8f17755e0cec",
   "metadata": {},
   "outputs": [
    {
     "name": "stdout",
     "output_type": "stream",
     "text": [
      "(0, 'ali') (1, 'veli') (2, 'ayşe')\n"
     ]
    }
   ],
   "source": [
    "print(*enumerate(names))"
   ]
  },
  {
   "cell_type": "code",
   "execution_count": 14,
   "id": "d55e51f8-c65f-4ece-b74b-5a776bae239e",
   "metadata": {},
   "outputs": [
    {
     "name": "stdout",
     "output_type": "stream",
     "text": [
      "(0, 'ali')\n",
      "(1, 'veli')\n",
      "(2, 'ayşe')\n"
     ]
    }
   ],
   "source": [
    "for i in enumerate(names):\n",
    "    print(i)"
   ]
  },
  {
   "cell_type": "code",
   "execution_count": 15,
   "id": "6d216d17-1d59-434f-823d-188cb6d79999",
   "metadata": {},
   "outputs": [
    {
     "name": "stdout",
     "output_type": "stream",
     "text": [
      "(0, 'n')\n",
      "(1, 'a')\n",
      "(2, 'm')\n",
      "(3, 'e')\n",
      "(4, 's')\n"
     ]
    }
   ],
   "source": [
    "for i in enumerate(\"names\"):\n",
    "    print(i)"
   ]
  },
  {
   "cell_type": "code",
   "execution_count": 16,
   "id": "29250234-c3ff-4c18-9509-7b50c2cdf5f4",
   "metadata": {},
   "outputs": [
    {
     "name": "stdout",
     "output_type": "stream",
     "text": [
      "(1, 'ali')\n",
      "(2, 'veli')\n",
      "(3, 'ayşe')\n"
     ]
    }
   ],
   "source": [
    "for i in enumerate(names,1): # Starts numbering from 1\n",
    "    print(i)"
   ]
  },
  {
   "cell_type": "markdown",
   "id": "db0620fa-c448-4fbc-bef0-bc649030d1d5",
   "metadata": {
    "jp-MarkdownHeadingCollapsed": true
   },
   "source": [
    "## In-Array Type Queries"
   ]
  },
  {
   "cell_type": "code",
   "execution_count": 25,
   "id": "8d6a3603-f45a-49c6-b023-68aee650d519",
   "metadata": {},
   "outputs": [
    {
     "data": {
      "text/plain": [
       "True"
      ]
     },
     "execution_count": 25,
     "metadata": {},
     "output_type": "execute_result"
    }
   ],
   "source": [
    "\"alisan\".isalpha() # Does it consist entirely of letters?"
   ]
  },
  {
   "cell_type": "code",
   "execution_count": 26,
   "id": "f37eadac-da87-46cd-98b3-b2cdec8c90f8",
   "metadata": {},
   "outputs": [
    {
     "data": {
      "text/plain": [
       "False"
      ]
     },
     "execution_count": 26,
     "metadata": {},
     "output_type": "execute_result"
    }
   ],
   "source": [
    "\"alisan32\".isalpha()"
   ]
  },
  {
   "cell_type": "code",
   "execution_count": 27,
   "id": "1d9985e7-24ee-4970-ba56-01a424f7bb58",
   "metadata": {},
   "outputs": [
    {
     "data": {
      "text/plain": [
       "True"
      ]
     },
     "execution_count": 27,
     "metadata": {},
     "output_type": "execute_result"
    }
   ],
   "source": [
    "\"123\".isnumeric() # Is it entirely numeric?"
   ]
  },
  {
   "cell_type": "code",
   "execution_count": 28,
   "id": "b3179e6b-2076-4e77-a85d-3de26f9e51c9",
   "metadata": {},
   "outputs": [
    {
     "data": {
      "text/plain": [
       "True"
      ]
     },
     "execution_count": 28,
     "metadata": {},
     "output_type": "execute_result"
    }
   ],
   "source": [
    "\"123\".isdigit() # Is it entirely digits?"
   ]
  },
  {
   "cell_type": "code",
   "execution_count": 29,
   "id": "213ae119-3cd2-4574-9d13-528d2901d22b",
   "metadata": {},
   "outputs": [
    {
     "data": {
      "text/plain": [
       "True"
      ]
     },
     "execution_count": 29,
     "metadata": {},
     "output_type": "execute_result"
    }
   ],
   "source": [
    "\"123\".isalnum() # Is it entirely numeric or alphabetic?"
   ]
  },
  {
   "cell_type": "markdown",
   "id": "a47f4058-5005-42a7-a493-510350c1e3da",
   "metadata": {
    "jp-MarkdownHeadingCollapsed": true
   },
   "source": [
    "## Accessing Elements and Their Indexes"
   ]
  },
  {
   "cell_type": "code",
   "execution_count": 17,
   "id": "5d28d3a9-c0e9-45fa-85f0-6c710f74a477",
   "metadata": {},
   "outputs": [],
   "source": [
    "name = \"alisanKoroglu\""
   ]
  },
  {
   "cell_type": "code",
   "execution_count": 18,
   "id": "fd69eb5d-a7ea-4e34-86e7-17cc01889d4c",
   "metadata": {},
   "outputs": [
    {
     "data": {
      "text/plain": [
       "'alisanKoroglu'"
      ]
     },
     "execution_count": 18,
     "metadata": {},
     "output_type": "execute_result"
    }
   ],
   "source": [
    "name"
   ]
  },
  {
   "cell_type": "code",
   "execution_count": 19,
   "id": "25338938-7d78-4840-8c6a-42c28266172b",
   "metadata": {},
   "outputs": [
    {
     "data": {
      "text/plain": [
       "'al'"
      ]
     },
     "execution_count": 19,
     "metadata": {},
     "output_type": "execute_result"
    }
   ],
   "source": [
    "name[0:2]"
   ]
  },
  {
   "cell_type": "code",
   "execution_count": 31,
   "id": "4796078b-23c7-424b-a422-a10af08e8d09",
   "metadata": {},
   "outputs": [
    {
     "data": {
      "text/plain": [
       "5"
      ]
     },
     "execution_count": 31,
     "metadata": {},
     "output_type": "execute_result"
    }
   ],
   "source": [
    "name.index(\"n\") # gives the indexof the character"
   ]
  },
  {
   "cell_type": "code",
   "execution_count": 32,
   "id": "209a77db-2cf0-4745-a5f7-4de85da1f091",
   "metadata": {},
   "outputs": [
    {
     "data": {
      "text/plain": [
       "0"
      ]
     },
     "execution_count": 32,
     "metadata": {},
     "output_type": "execute_result"
    }
   ],
   "source": [
    "name.index(\"a\") # Returns the index of the first occurrence of the character."
   ]
  },
  {
   "cell_type": "code",
   "execution_count": 33,
   "id": "75f242b8-4d24-429f-8376-149ec1f53644",
   "metadata": {},
   "outputs": [
    {
     "data": {
      "text/plain": [
       "4"
      ]
     },
     "execution_count": 33,
     "metadata": {},
     "output_type": "execute_result"
    }
   ],
   "source": [
    "# To find another one\n",
    "name.index(\"a\", 2) # Start searching from index 2."
   ]
  },
  {
   "cell_type": "markdown",
   "id": "a0e627d5-9b8d-4c5b-bfe4-ce57d31a2c09",
   "metadata": {
    "jp-MarkdownHeadingCollapsed": true
   },
   "source": [
    "## Querying Start and End Characters: `startswith()` & `endswith()`"
   ]
  },
  {
   "cell_type": "code",
   "execution_count": 34,
   "id": "94efb86d-ebdc-4b27-8325-93506767c9f0",
   "metadata": {},
   "outputs": [],
   "source": [
    "name = \"alisanKoroglu\""
   ]
  },
  {
   "cell_type": "code",
   "execution_count": 35,
   "id": "3362b34f-b256-4ee4-975b-88b3c14d5122",
   "metadata": {},
   "outputs": [
    {
     "data": {
      "text/plain": [
       "True"
      ]
     },
     "execution_count": 35,
     "metadata": {},
     "output_type": "execute_result"
    }
   ],
   "source": [
    "name.startswith(\"a\") # Does the name start with the character \"a\"?"
   ]
  },
  {
   "cell_type": "code",
   "execution_count": 36,
   "id": "12d3ae8b-bb8f-46b7-97e4-e6e726cfc685",
   "metadata": {},
   "outputs": [
    {
     "data": {
      "text/plain": [
       "False"
      ]
     },
     "execution_count": 36,
     "metadata": {},
     "output_type": "execute_result"
    }
   ],
   "source": [
    "name.startswith(\"A\") # Python is case-sensitive (uppercase and lowercase letters matter)."
   ]
  },
  {
   "cell_type": "code",
   "execution_count": 37,
   "id": "65df9b57-3012-4192-badf-83f6b2f8ad9b",
   "metadata": {},
   "outputs": [
    {
     "data": {
      "text/plain": [
       "False"
      ]
     },
     "execution_count": 37,
     "metadata": {},
     "output_type": "execute_result"
    }
   ],
   "source": [
    "name.startswith(\"L\")"
   ]
  },
  {
   "cell_type": "code",
   "execution_count": 39,
   "id": "04a9a99a-e2bb-4000-9677-18b9599770fe",
   "metadata": {},
   "outputs": [
    {
     "data": {
      "text/plain": [
       "True"
      ]
     },
     "execution_count": 39,
     "metadata": {},
     "output_type": "execute_result"
    }
   ],
   "source": [
    "name.endswith(\"u\") # Does the name end with the character \"u\"?"
   ]
  },
  {
   "cell_type": "code",
   "execution_count": 40,
   "id": "c5ac6c4d-8c7f-4e79-b76a-4b14814299a4",
   "metadata": {},
   "outputs": [
    {
     "data": {
      "text/plain": [
       "False"
      ]
     },
     "execution_count": 40,
     "metadata": {},
     "output_type": "execute_result"
    }
   ],
   "source": [
    "name.endswith(\"h\")"
   ]
  },
  {
   "cell_type": "code",
   "execution_count": 41,
   "id": "6f0b7e78-8258-44f9-b7a5-c9b19d14d79c",
   "metadata": {},
   "outputs": [
    {
     "data": {
      "text/plain": [
       "2"
      ]
     },
     "execution_count": 41,
     "metadata": {},
     "output_type": "execute_result"
    }
   ],
   "source": [
    "isim.count(\"a\") # How many 'a' characters are there?"
   ]
  },
  {
   "cell_type": "code",
   "execution_count": 42,
   "id": "e3a69314-a545-45c9-b6cf-edd0b4b05943",
   "metadata": {},
   "outputs": [
    {
     "data": {
      "text/plain": [
       "['d', 'e', 'e', 'f', 'r', 't']"
      ]
     },
     "execution_count": 42,
     "metadata": {},
     "output_type": "execute_result"
    }
   ],
   "source": [
    "# sorted: Sorts elements alphabetically.\n",
    "sorted(\"defter\") "
   ]
  },
  {
   "cell_type": "code",
   "execution_count": 43,
   "id": "676faaa0-cb5f-4205-a270-b650428224c2",
   "metadata": {},
   "outputs": [
    {
     "name": "stdout",
     "output_type": "stream",
     "text": [
      "deefrt\n"
     ]
    }
   ],
   "source": [
    "print(*sorted(\"defter\"), sep = \"\") # **Using `*` prints without spaces (concatenates the elements).**"
   ]
  },
  {
   "cell_type": "markdown",
   "id": "12143ccb-e30c-4de6-bb3c-0b17c7574f16",
   "metadata": {
    "jp-MarkdownHeadingCollapsed": true
   },
   "source": [
    "## Splitting Characters"
   ]
  },
  {
   "cell_type": "code",
   "execution_count": 44,
   "id": "79e4e384-f8bb-4a34-960a-8f2cb2a75e1c",
   "metadata": {},
   "outputs": [],
   "source": [
    "name = \"Alisan Koroglu\""
   ]
  },
  {
   "cell_type": "code",
   "execution_count": 45,
   "id": "8918904e-63b9-4eb1-9e26-1782bf25086d",
   "metadata": {},
   "outputs": [
    {
     "data": {
      "text/plain": [
       "['Alisan', 'Koroglu']"
      ]
     },
     "execution_count": 45,
     "metadata": {},
     "output_type": "execute_result"
    }
   ],
   "source": [
    "name.split() # Split by spaces."
   ]
  },
  {
   "cell_type": "code",
   "execution_count": 46,
   "id": "ca8c5a39-2387-437a-bc99-6c2dfb505491",
   "metadata": {},
   "outputs": [
    {
     "data": {
      "text/plain": [
       "['Alis', 'n Koroglu']"
      ]
     },
     "execution_count": 46,
     "metadata": {},
     "output_type": "execute_result"
    }
   ],
   "source": [
    "name.split(\"a\") # Splits by the character 'a'."
   ]
  },
  {
   "cell_type": "code",
   "execution_count": 48,
   "id": "732e408a-a5bf-44de-834e-76ff6c3ff493",
   "metadata": {},
   "outputs": [
    {
     "data": {
      "text/plain": [
       "['Alisan', 'Koroglu']"
      ]
     },
     "execution_count": 48,
     "metadata": {},
     "output_type": "execute_result"
    }
   ],
   "source": [
    "name = \"Alisan_Koroglu\"\n",
    "name.split(\"_\") # Splits by the character '_'."
   ]
  },
  {
   "cell_type": "markdown",
   "id": "ead62db3-cff1-4480-b862-0b597c7910db",
   "metadata": {
    "jp-MarkdownHeadingCollapsed": true
   },
   "source": [
    "## Uppercase and Lowercase Operations"
   ]
  },
  {
   "cell_type": "code",
   "execution_count": 49,
   "id": "b1d92bf1-7590-4f39-9982-748fd775b5d4",
   "metadata": {},
   "outputs": [],
   "source": [
    "name = \"Alisan Koroglu\""
   ]
  },
  {
   "cell_type": "code",
   "execution_count": 51,
   "id": "bfa15473-4753-4dbe-a53d-f5b0169ff379",
   "metadata": {},
   "outputs": [
    {
     "data": {
      "text/plain": [
       "'ALISAN KOROGLU'"
      ]
     },
     "execution_count": 51,
     "metadata": {},
     "output_type": "execute_result"
    }
   ],
   "source": [
    "name.upper()"
   ]
  },
  {
   "cell_type": "code",
   "execution_count": 52,
   "id": "57d7c7ad-cd9d-43e4-b8a1-cddeb1f9d9f0",
   "metadata": {},
   "outputs": [
    {
     "data": {
      "text/plain": [
       "'alisan koroglu'"
      ]
     },
     "execution_count": 52,
     "metadata": {},
     "output_type": "execute_result"
    }
   ],
   "source": [
    "name.lower()"
   ]
  },
  {
   "cell_type": "code",
   "execution_count": 53,
   "id": "b466cc91-3816-494b-a585-8a076b1c33c4",
   "metadata": {},
   "outputs": [
    {
     "data": {
      "text/plain": [
       "'alisan koroglu'"
      ]
     },
     "execution_count": 53,
     "metadata": {},
     "output_type": "execute_result"
    }
   ],
   "source": [
    "name.upper().lower()"
   ]
  },
  {
   "cell_type": "code",
   "execution_count": 55,
   "id": "4fde14b1-aee6-4276-b2bc-8d36fc62cd87",
   "metadata": {},
   "outputs": [
    {
     "data": {
      "text/plain": [
       "'ALISAN KOROGLU'"
      ]
     },
     "execution_count": 55,
     "metadata": {},
     "output_type": "execute_result"
    }
   ],
   "source": [
    "name_Capital = name.upper()\n",
    "name_Capital"
   ]
  },
  {
   "cell_type": "code",
   "execution_count": 56,
   "id": "bcaab278-4d99-496b-90e3-c2a3f54a1abd",
   "metadata": {},
   "outputs": [
    {
     "data": {
      "text/plain": [
       "False"
      ]
     },
     "execution_count": 56,
     "metadata": {},
     "output_type": "execute_result"
    }
   ],
   "source": [
    "name_Capital.islower() # Does it consist entirely of lowercase letters?"
   ]
  },
  {
   "cell_type": "code",
   "execution_count": 57,
   "id": "8523e7f9-9730-4547-ba99-1fb8a4b52206",
   "metadata": {},
   "outputs": [
    {
     "data": {
      "text/plain": [
       "True"
      ]
     },
     "execution_count": 57,
     "metadata": {},
     "output_type": "execute_result"
    }
   ],
   "source": [
    "name_Capital.isupper() # Does it consist entirely of uppercase letters?"
   ]
  },
  {
   "cell_type": "markdown",
   "id": "21b2bed8-3ae9-421a-bd8c-c0edbbb4f62b",
   "metadata": {
    "jp-MarkdownHeadingCollapsed": true
   },
   "source": [
    "## capitalize() & title() & swapcase()"
   ]
  },
  {
   "cell_type": "code",
   "execution_count": 62,
   "id": "40326506-cfd8-4927-9536-e454ef0b2fc8",
   "metadata": {},
   "outputs": [],
   "source": [
    "name = \"alisan koroglu\""
   ]
  },
  {
   "cell_type": "code",
   "execution_count": 64,
   "id": "6f4953c5-4ba7-4da5-9051-32799817a421",
   "metadata": {},
   "outputs": [
    {
     "data": {
      "text/plain": [
       "'Alisan koroglu'"
      ]
     },
     "execution_count": 64,
     "metadata": {},
     "output_type": "execute_result"
    }
   ],
   "source": [
    "name.capitalize() # Capitalizes the first letter of the given string."
   ]
  },
  {
   "cell_type": "code",
   "execution_count": 65,
   "id": "a7afd758-c82c-4589-a70e-612368854fad",
   "metadata": {},
   "outputs": [
    {
     "data": {
      "text/plain": [
       "'Alisan Koroglu'"
      ]
     },
     "execution_count": 65,
     "metadata": {},
     "output_type": "execute_result"
    }
   ],
   "source": [
    "name.title() # Capitalizes the first letter of each word."
   ]
  },
  {
   "cell_type": "code",
   "execution_count": 66,
   "id": "78d851de-4a0f-40c4-bfac-735b12fd2e15",
   "metadata": {},
   "outputs": [
    {
     "data": {
      "text/plain": [
       "'ALISAN KOROGLU'"
      ]
     },
     "execution_count": 66,
     "metadata": {},
     "output_type": "execute_result"
    }
   ],
   "source": [
    "name.swapcase() # in this case capitalize all letters but"
   ]
  },
  {
   "cell_type": "code",
   "execution_count": 68,
   "id": "c5bd1b0d-a05e-45ff-a540-5a6dcd5a29ee",
   "metadata": {},
   "outputs": [
    {
     "data": {
      "text/plain": [
       "'alisan KOROGLU'"
      ]
     },
     "execution_count": 68,
     "metadata": {},
     "output_type": "execute_result"
    }
   ],
   "source": [
    "name = \"ALISAN koroglu\" # in this case changed upper to lower, lower to upper\n",
    "name.swapcase()"
   ]
  },
  {
   "cell_type": "markdown",
   "id": "a316761c-58e0-426c-9c7c-efc4a0c4d5ee",
   "metadata": {
    "jp-MarkdownHeadingCollapsed": true
   },
   "source": [
    "## Trimming Unwanted Characters: `strip()`, `lstrip()`, `rstrip()`"
   ]
  },
  {
   "cell_type": "code",
   "execution_count": 72,
   "id": "396b08ca-3582-4f73-809f-1c2fd134833e",
   "metadata": {},
   "outputs": [
    {
     "data": {
      "text/plain": [
       "'alisan'"
      ]
     },
     "execution_count": 72,
     "metadata": {},
     "output_type": "execute_result"
    }
   ],
   "source": [
    "name = \" alisan \"\n",
    "name.strip() # Removes leading and trailing spaces."
   ]
  },
  {
   "cell_type": "code",
   "execution_count": 83,
   "id": "05d7b69d-8435-4200-949f-03b913c6d216",
   "metadata": {},
   "outputs": [
    {
     "data": {
      "text/plain": [
       "'*alisan*'"
      ]
     },
     "execution_count": 83,
     "metadata": {},
     "output_type": "execute_result"
    }
   ],
   "source": [
    "name = \"*alisan*\"\n",
    "name.strip() "
   ]
  },
  {
   "cell_type": "code",
   "execution_count": 74,
   "id": "a0c78486-5b32-4627-92e2-a00375c19270",
   "metadata": {},
   "outputs": [
    {
     "data": {
      "text/plain": [
       "'alisan'"
      ]
     },
     "execution_count": 74,
     "metadata": {},
     "output_type": "execute_result"
    }
   ],
   "source": [
    "name.strip(\"*\") # Removes `*` characters from both the left and right sides."
   ]
  },
  {
   "cell_type": "code",
   "execution_count": 75,
   "id": "11bdcc98-ebae-4db4-8392-85fc517890d4",
   "metadata": {},
   "outputs": [
    {
     "data": {
      "text/plain": [
       "'hello'"
      ]
     },
     "execution_count": 75,
     "metadata": {},
     "output_type": "execute_result"
    }
   ],
   "source": [
    "name = \"lhellol\"\n",
    "name.strip(\"l\")"
   ]
  },
  {
   "cell_type": "code",
   "execution_count": 76,
   "id": "829a480c-f13e-4345-9e0b-a35cd1a4a74c",
   "metadata": {},
   "outputs": [
    {
     "data": {
      "text/plain": [
       "'*hello'"
      ]
     },
     "execution_count": 76,
     "metadata": {},
     "output_type": "execute_result"
    }
   ],
   "source": [
    "name = \"*hello*\"\n",
    "name.rstrip(\"*\") # Removes from the right side only."
   ]
  },
  {
   "cell_type": "code",
   "execution_count": 77,
   "id": "bfff6a77-4ea4-47b7-bb08-a86e910ffadf",
   "metadata": {},
   "outputs": [
    {
     "data": {
      "text/plain": [
       "'hello*'"
      ]
     },
     "execution_count": 77,
     "metadata": {},
     "output_type": "execute_result"
    }
   ],
   "source": [
    "name.lstrip(\"*\") # Removes from the left side only."
   ]
  },
  {
   "cell_type": "markdown",
   "id": "ad0a72af-c588-454e-87b9-b5c7e096cd30",
   "metadata": {
    "jp-MarkdownHeadingCollapsed": true
   },
   "source": [
    "## `join`: Merging Split or Already Separated Strings"
   ]
  },
  {
   "cell_type": "code",
   "execution_count": 78,
   "id": "03049790-be76-4062-ade7-08df59105f1b",
   "metadata": {},
   "outputs": [],
   "source": [
    "name = \"alisan koroglu\""
   ]
  },
  {
   "cell_type": "code",
   "execution_count": 79,
   "id": "3fc5bb21-e2aa-4d45-9f74-d2bba506c8ba",
   "metadata": {},
   "outputs": [
    {
     "data": {
      "text/plain": [
       "['alisan', 'koroglu']"
      ]
     },
     "execution_count": 79,
     "metadata": {},
     "output_type": "execute_result"
    }
   ],
   "source": [
    "split = name.split()\n",
    "split"
   ]
  },
  {
   "cell_type": "code",
   "execution_count": 81,
   "id": "e3a28b0e-e980-4a45-9e31-b3d2dfb63a21",
   "metadata": {},
   "outputs": [
    {
     "data": {
      "text/plain": [
       "'alisan koroglu'"
      ]
     },
     "execution_count": 81,
     "metadata": {},
     "output_type": "execute_result"
    }
   ],
   "source": [
    "joiner = \" \" # Specifies the separator to be used when joining elements.\n",
    "joiner.join(split)"
   ]
  },
  {
   "cell_type": "code",
   "execution_count": 82,
   "id": "a098e19a-1d5b-4da8-9cb6-5fe460a2decc",
   "metadata": {},
   "outputs": [
    {
     "data": {
      "text/plain": [
       "'alisan***koroglu'"
      ]
     },
     "execution_count": 82,
     "metadata": {},
     "output_type": "execute_result"
    }
   ],
   "source": [
    "joiner = \"***\" # Specifies the separator to be used when joining elements.\n",
    "joiner.join(split)"
   ]
  },
  {
   "cell_type": "markdown",
   "id": "a175ca95-406d-4fd1-a2c7-26435a7b4ef8",
   "metadata": {
    "jp-MarkdownHeadingCollapsed": true
   },
   "source": [
    "## Replacing Elements: `replace()`, `str.maketrans()`, `translate()`"
   ]
  },
  {
   "cell_type": "code",
   "execution_count": 84,
   "id": "7de73d10-a0a1-4dc9-8a00-af8200f24789",
   "metadata": {},
   "outputs": [],
   "source": [
    "name = \"alisan koroglu\""
   ]
  },
  {
   "cell_type": "code",
   "execution_count": 86,
   "id": "51c0ca09-a188-4808-915b-4084a0efddf5",
   "metadata": {},
   "outputs": [
    {
     "data": {
      "text/plain": [
       "'ElisEn koroglu'"
      ]
     },
     "execution_count": 86,
     "metadata": {},
     "output_type": "execute_result"
    }
   ],
   "source": [
    "name.replace(\"a\", \"E\") # Replaces the letter 'E' with the letter 'a'."
   ]
  },
  {
   "cell_type": "code",
   "execution_count": 88,
   "id": "b9049203-1352-4f88-9cf0-fd513d36da8c",
   "metadata": {},
   "outputs": [
    {
     "data": {
      "text/plain": [
       "'alisan KAroglu'"
      ]
     },
     "execution_count": 88,
     "metadata": {},
     "output_type": "execute_result"
    }
   ],
   "source": [
    "name.replace(\"ko\",\"KA\")"
   ]
  },
  {
   "cell_type": "code",
   "execution_count": 94,
   "id": "d727d1c2-33af-46da-a11e-a77a8b1928b2",
   "metadata": {},
   "outputs": [],
   "source": [
    "# When we want to replace some characters with anothers\n",
    "\n",
    "phrase = \"Bu ifade İçerisinde bağzı Türkçe karakterler vardır\""
   ]
  },
  {
   "cell_type": "code",
   "execution_count": 95,
   "id": "13680329-a7ae-4990-8b64-0db428b2b009",
   "metadata": {},
   "outputs": [],
   "source": [
    "letters_to_be_corrected = \"çÇğĞıİöÖşŞüÜ\"\n",
    "corrected_letters = \"cCgGiIoOsSuU\""
   ]
  },
  {
   "cell_type": "code",
   "execution_count": 96,
   "id": "4e4f78a9-b43c-4f86-a5cb-e4c753d82355",
   "metadata": {},
   "outputs": [
    {
     "data": {
      "text/plain": [
       "'Bu ifade Icerisinde bagzi Turkce karakterler vardir'"
      ]
     },
     "execution_count": 96,
     "metadata": {},
     "output_type": "execute_result"
    }
   ],
   "source": [
    "correction = str.maketrans(letters_to_be_corrected, corrected_letters)\n",
    "phrase.translate(correction)"
   ]
  },
  {
   "cell_type": "markdown",
   "id": "5a88ca85-2da2-41f5-9dc6-f9ff7037d94f",
   "metadata": {
    "jp-MarkdownHeadingCollapsed": true
   },
   "source": [
    "## contains"
   ]
  },
  {
   "cell_type": "code",
   "execution_count": 98,
   "id": "1b2aac95-9099-4fad-a329-97ecd18986d0",
   "metadata": {},
   "outputs": [
    {
     "data": {
      "text/plain": [
       "0       ayse\n",
       "1       Ayşe\n",
       "2        ali\n",
       "3       aali\n",
       "4        Ali\n",
       "5       veli\n",
       "6     mehmet\n",
       "7    berkcan\n",
       "dtype: object"
      ]
     },
     "execution_count": 98,
     "metadata": {},
     "output_type": "execute_result"
    }
   ],
   "source": [
    "import pandas as pd\n",
    "\n",
    "names = [\"ayse\", \"Ayşe\", \"ali\", \"aali\", \"Ali\", \"veli\", \"mehmet\", \"berkcan\"]\n",
    "name_series = pd.Series(names)\n",
    "name_series"
   ]
  },
  {
   "cell_type": "code",
   "execution_count": 99,
   "id": "84fbf94d-65ff-4fac-afa8-3f3c412af1c7",
   "metadata": {},
   "outputs": [
    {
     "data": {
      "text/plain": [
       "0    False\n",
       "1    False\n",
       "2     True\n",
       "3     True\n",
       "4    False\n",
       "5    False\n",
       "6    False\n",
       "7    False\n",
       "dtype: bool"
      ]
     },
     "execution_count": 99,
     "metadata": {},
     "output_type": "execute_result"
    }
   ],
   "source": [
    "name_series.str.contains(\"al\") # Checks whether the strings in the series contain \"al\"."
   ]
  },
  {
   "cell_type": "code",
   "execution_count": 100,
   "id": "55f6b0b2-adff-4ec7-b99a-196b5f7f3bcf",
   "metadata": {},
   "outputs": [
    {
     "data": {
      "text/plain": [
       "2     ali\n",
       "3    aali\n",
       "dtype: object"
      ]
     },
     "execution_count": 100,
     "metadata": {},
     "output_type": "execute_result"
    }
   ],
   "source": [
    "name_series[name_series.str.contains(\"al\")] # Retrieves values that contain \"al\"."
   ]
  },
  {
   "cell_type": "code",
   "execution_count": 101,
   "id": "c34ef073-c9b8-4678-9678-e37b832b7dd7",
   "metadata": {},
   "outputs": [
    {
     "data": {
      "text/plain": [
       "2"
      ]
     },
     "execution_count": 101,
     "metadata": {},
     "output_type": "execute_result"
    }
   ],
   "source": [
    "name_series.str.contains(\"al\").sum() # Counts how many values contain \"al\"."
   ]
  },
  {
   "cell_type": "code",
   "execution_count": 102,
   "id": "c25bb60f-bde9-4402-b4e3-16a3f9fc2aa0",
   "metadata": {},
   "outputs": [
    {
     "data": {
      "text/plain": [
       "3"
      ]
     },
     "execution_count": 102,
     "metadata": {},
     "output_type": "execute_result"
    }
   ],
   "source": [
    "v.str.contains(\"[aA]li\").sum()  # Includes the letter 'a' regardless of case (uppercase or lowercase)."
   ]
  },
  {
   "cell_type": "markdown",
   "id": "56edde88-71a6-4c6b-b0c1-2228566da1ab",
   "metadata": {},
   "source": [
    "# Introduction to Text Mining and Natural Language Processing (NLP)"
   ]
  },
  {
   "cell_type": "markdown",
   "id": "76a540c1-02b0-4f16-b9ed-137e15120227",
   "metadata": {},
   "source": [
    "## Text Preprocessing"
   ]
  },
  {
   "cell_type": "markdown",
   "id": "b0746201-2859-43d5-b0e6-6e570414dbc0",
   "metadata": {},
   "source": [
    "* Sherlock Holmes novel titles in a slightly noisy form, including trailing numbers, etc.\n",
    "* Our first problem is converting this expression into a vector."
   ]
  },
  {
   "cell_type": "code",
   "execution_count": 104,
   "id": "285e7322-4c5a-463f-8d95-93a81a63e0d2",
   "metadata": {},
   "outputs": [
    {
     "data": {
      "text/plain": [
       "\"\\nA Scandal in Bohemia! 01\\nThe Red-headed League,2\\nA Case, of Identity 33\\nThe Boscombe Valley Mystery4\\nThe Five Orange Pips1\\nThe Man with? the Twisted Lip\\nThe Adventure of the Blue Carbuncle\\nThe Adventure of the Speckled Band\\nThe Adventure of the Engineer's Thumb\\nThe Adventure of the Noble Bachelor\\nThe Adventure of the Beryl Coronet\\nThe Adventure of the Copper Beeches\""
      ]
     },
     "execution_count": 104,
     "metadata": {},
     "output_type": "execute_result"
    }
   ],
   "source": [
    "text = \"\"\"\n",
    "A Scandal in Bohemia! 01\n",
    "The Red-headed League,2\n",
    "A Case, of Identity 33\n",
    "The Boscombe Valley Mystery4\n",
    "The Five Orange Pips1\n",
    "The Man with? the Twisted Lip\n",
    "The Adventure of the Blue Carbuncle\n",
    "The Adventure of the Speckled Band\n",
    "The Adventure of the Engineer's Thumb\n",
    "The Adventure of the Noble Bachelor\n",
    "The Adventure of the Beryl Coronet\n",
    "The Adventure of the Copper Beeches\"\"\"\n",
    "\n",
    "text "
   ]
  },
  {
   "cell_type": "markdown",
   "id": "4954bbe5-9cf7-4c31-8a40-c7a8c3d99199",
   "metadata": {},
   "source": [
    "### Convert the string into a DataFrame/array/Series."
   ]
  },
  {
   "cell_type": "code",
   "execution_count": 106,
   "id": "3e128eef-126c-490f-b40d-11cc31f9f4f3",
   "metadata": {
    "scrolled": true
   },
   "outputs": [
    {
     "data": {
      "text/plain": [
       "['A',\n",
       " 'Scandal',\n",
       " 'in',\n",
       " 'Bohemia!',\n",
       " '01',\n",
       " 'The',\n",
       " 'Red-headed',\n",
       " 'League,2',\n",
       " 'A',\n",
       " 'Case,',\n",
       " 'of',\n",
       " 'Identity',\n",
       " '33',\n",
       " 'The',\n",
       " 'Boscombe',\n",
       " 'Valley',\n",
       " 'Mystery4',\n",
       " 'The',\n",
       " 'Five',\n",
       " 'Orange',\n",
       " 'Pips1',\n",
       " 'The',\n",
       " 'Man',\n",
       " 'with?',\n",
       " 'the',\n",
       " 'Twisted',\n",
       " 'Lip',\n",
       " 'The',\n",
       " 'Adventure',\n",
       " 'of',\n",
       " 'the',\n",
       " 'Blue',\n",
       " 'Carbuncle',\n",
       " 'The',\n",
       " 'Adventure',\n",
       " 'of',\n",
       " 'the',\n",
       " 'Speckled',\n",
       " 'Band',\n",
       " 'The',\n",
       " 'Adventure',\n",
       " 'of',\n",
       " 'the',\n",
       " \"Engineer's\",\n",
       " 'Thumb',\n",
       " 'The',\n",
       " 'Adventure',\n",
       " 'of',\n",
       " 'the',\n",
       " 'Noble',\n",
       " 'Bachelor',\n",
       " 'The',\n",
       " 'Adventure',\n",
       " 'of',\n",
       " 'the',\n",
       " 'Beryl',\n",
       " 'Coronet',\n",
       " 'The',\n",
       " 'Adventure',\n",
       " 'of',\n",
       " 'the',\n",
       " 'Copper',\n",
       " 'Beeches']"
      ]
     },
     "execution_count": 106,
     "metadata": {},
     "output_type": "execute_result"
    }
   ],
   "source": [
    "text.split()"
   ]
  },
  {
   "cell_type": "code",
   "execution_count": 109,
   "id": "8aeef0f0-4482-4ede-ab54-6940a66d392f",
   "metadata": {},
   "outputs": [
    {
     "data": {
      "text/plain": [
       "['',\n",
       " 'A Scandal in Bohemia! 01',\n",
       " 'The Red-headed League,2',\n",
       " 'A Case, of Identity 33',\n",
       " 'The Boscombe Valley Mystery4',\n",
       " 'The Five Orange Pips1',\n",
       " 'The Man with? the Twisted Lip',\n",
       " 'The Adventure of the Blue Carbuncle',\n",
       " 'The Adventure of the Speckled Band',\n",
       " \"The Adventure of the Engineer's Thumb\",\n",
       " 'The Adventure of the Noble Bachelor',\n",
       " 'The Adventure of the Beryl Coronet',\n",
       " 'The Adventure of the Copper Beeches']"
      ]
     },
     "execution_count": 109,
     "metadata": {},
     "output_type": "execute_result"
    }
   ],
   "source": [
    "text.split(\"\\n\")"
   ]
  },
  {
   "cell_type": "code",
   "execution_count": 110,
   "id": "a474287d-8d4c-424b-91e4-dc13408b5040",
   "metadata": {},
   "outputs": [],
   "source": [
    "text_list = text.split(\"\\n\")"
   ]
  },
  {
   "cell_type": "code",
   "execution_count": 115,
   "id": "203aeadd-b2e5-4097-be34-05f5cba3a2d2",
   "metadata": {},
   "outputs": [
    {
     "data": {
      "text/plain": [
       "0                                          \n",
       "1                  A Scandal in Bohemia! 01\n",
       "2                   The Red-headed League,2\n",
       "3                    A Case, of Identity 33\n",
       "4              The Boscombe Valley Mystery4\n",
       "5                     The Five Orange Pips1\n",
       "6             The Man with? the Twisted Lip\n",
       "7       The Adventure of the Blue Carbuncle\n",
       "8        The Adventure of the Speckled Band\n",
       "9     The Adventure of the Engineer's Thumb\n",
       "10      The Adventure of the Noble Bachelor\n",
       "11       The Adventure of the Beryl Coronet\n",
       "12      The Adventure of the Copper Beeches\n",
       "dtype: object"
      ]
     },
     "execution_count": 115,
     "metadata": {},
     "output_type": "execute_result"
    }
   ],
   "source": [
    "import pandas as pd\n",
    "text_pdSeries= pd.Series(text_list)\n",
    "text_pdSeries"
   ]
  },
  {
   "cell_type": "code",
   "execution_count": 121,
   "id": "439b6c96-6b24-4f12-b667-e6907a942250",
   "metadata": {},
   "outputs": [
    {
     "data": {
      "text/plain": [
       "1                  A Scandal in Bohemia! 01\n",
       "2                   The Red-headed League,2\n",
       "3                    A Case, of Identity 33\n",
       "4              The Boscombe Valley Mystery4\n",
       "5                     The Five Orange Pips1\n",
       "6             The Man with? the Twisted Lip\n",
       "7       The Adventure of the Blue Carbuncle\n",
       "8        The Adventure of the Speckled Band\n",
       "9     The Adventure of the Engineer's Thumb\n",
       "10      The Adventure of the Noble Bachelor\n",
       "11       The Adventure of the Beryl Coronet\n",
       "12      The Adventure of the Copper Beeches\n",
       "dtype: object"
      ]
     },
     "execution_count": 121,
     "metadata": {},
     "output_type": "execute_result"
    }
   ],
   "source": [
    "text_pdSeries = text_pdSeries[1:len(text_pdSeries)] # Got rid of the leading space.\n",
    "text_pdSeries"
   ]
  },
  {
   "cell_type": "code",
   "execution_count": 124,
   "id": "e082019e-ec61-44d3-9cea-d36199ab6d1e",
   "metadata": {},
   "outputs": [
    {
     "data": {
      "text/html": [
       "<div>\n",
       "<style scoped>\n",
       "    .dataframe tbody tr th:only-of-type {\n",
       "        vertical-align: middle;\n",
       "    }\n",
       "\n",
       "    .dataframe tbody tr th {\n",
       "        vertical-align: top;\n",
       "    }\n",
       "\n",
       "    .dataframe thead th {\n",
       "        text-align: right;\n",
       "    }\n",
       "</style>\n",
       "<table border=\"1\" class=\"dataframe\">\n",
       "  <thead>\n",
       "    <tr style=\"text-align: right;\">\n",
       "      <th></th>\n",
       "      <th>Sherlock Holmes Novels</th>\n",
       "    </tr>\n",
       "  </thead>\n",
       "  <tbody>\n",
       "    <tr>\n",
       "      <th>1</th>\n",
       "      <td>A Scandal in Bohemia! 01</td>\n",
       "    </tr>\n",
       "    <tr>\n",
       "      <th>2</th>\n",
       "      <td>The Red-headed League,2</td>\n",
       "    </tr>\n",
       "    <tr>\n",
       "      <th>3</th>\n",
       "      <td>A Case, of Identity 33</td>\n",
       "    </tr>\n",
       "    <tr>\n",
       "      <th>4</th>\n",
       "      <td>The Boscombe Valley Mystery4</td>\n",
       "    </tr>\n",
       "    <tr>\n",
       "      <th>5</th>\n",
       "      <td>The Five Orange Pips1</td>\n",
       "    </tr>\n",
       "    <tr>\n",
       "      <th>6</th>\n",
       "      <td>The Man with? the Twisted Lip</td>\n",
       "    </tr>\n",
       "    <tr>\n",
       "      <th>7</th>\n",
       "      <td>The Adventure of the Blue Carbuncle</td>\n",
       "    </tr>\n",
       "    <tr>\n",
       "      <th>8</th>\n",
       "      <td>The Adventure of the Speckled Band</td>\n",
       "    </tr>\n",
       "    <tr>\n",
       "      <th>9</th>\n",
       "      <td>The Adventure of the Engineer's Thumb</td>\n",
       "    </tr>\n",
       "    <tr>\n",
       "      <th>10</th>\n",
       "      <td>The Adventure of the Noble Bachelor</td>\n",
       "    </tr>\n",
       "    <tr>\n",
       "      <th>11</th>\n",
       "      <td>The Adventure of the Beryl Coronet</td>\n",
       "    </tr>\n",
       "    <tr>\n",
       "      <th>12</th>\n",
       "      <td>The Adventure of the Copper Beeches</td>\n",
       "    </tr>\n",
       "  </tbody>\n",
       "</table>\n",
       "</div>"
      ],
      "text/plain": [
       "                   Sherlock Holmes Novels\n",
       "1                A Scandal in Bohemia! 01\n",
       "2                 The Red-headed League,2\n",
       "3                  A Case, of Identity 33\n",
       "4            The Boscombe Valley Mystery4\n",
       "5                   The Five Orange Pips1\n",
       "6           The Man with? the Twisted Lip\n",
       "7     The Adventure of the Blue Carbuncle\n",
       "8      The Adventure of the Speckled Band\n",
       "9   The Adventure of the Engineer's Thumb\n",
       "10    The Adventure of the Noble Bachelor\n",
       "11     The Adventure of the Beryl Coronet\n",
       "12    The Adventure of the Copper Beeches"
      ]
     },
     "execution_count": 124,
     "metadata": {},
     "output_type": "execute_result"
    }
   ],
   "source": [
    "text_pdDataFrame = pd.DataFrame(text_pdSeries,columns = [\"Sherlock Holmes Novels\"])\n",
    "text_pdDataFrame"
   ]
  },
  {
   "cell_type": "markdown",
   "id": "8b9ed058-00d8-45a8-bf1b-595cf71c1ca7",
   "metadata": {},
   "source": [
    "### Uppercase - Lowercase"
   ]
  },
  {
   "cell_type": "code",
   "execution_count": null,
   "id": "a0cb50f2-a9be-423b-bd76-c726a83787b4",
   "metadata": {},
   "outputs": [],
   "source": []
  }
 ],
 "metadata": {
  "kernelspec": {
   "display_name": "Python 3 (ipykernel)",
   "language": "python",
   "name": "python3"
  },
  "language_info": {
   "codemirror_mode": {
    "name": "ipython",
    "version": 3
   },
   "file_extension": ".py",
   "mimetype": "text/x-python",
   "name": "python",
   "nbconvert_exporter": "python",
   "pygments_lexer": "ipython3",
   "version": "3.10.7"
  }
 },
 "nbformat": 4,
 "nbformat_minor": 5
}
