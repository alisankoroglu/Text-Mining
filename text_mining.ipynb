{
 "cells": [
  {
   "cell_type": "markdown",
   "id": "e32c0214-03cf-43b9-9413-3f3430d20afb",
   "metadata": {
    "jp-MarkdownHeadingCollapsed": true
   },
   "source": [
    "# Basic String Operations"
   ]
  },
  {
   "cell_type": "markdown",
   "id": "116280da-6b10-4bc6-b698-410b02e01408",
   "metadata": {
    "jp-MarkdownHeadingCollapsed": true
   },
   "source": [
    "## Creation and Formatting"
   ]
  },
  {
   "cell_type": "code",
   "execution_count": 4,
   "id": "ac33a3b8-4372-48ec-9962-520720d29caa",
   "metadata": {},
   "outputs": [],
   "source": [
    "name = \"alisan\""
   ]
  },
  {
   "cell_type": "code",
   "execution_count": 5,
   "id": "4b211013-064c-4e79-a3d0-8e288c03ca93",
   "metadata": {},
   "outputs": [
    {
     "data": {
      "text/plain": [
       "'alisanalisanalisan'"
      ]
     },
     "execution_count": 5,
     "metadata": {},
     "output_type": "execute_result"
    }
   ],
   "source": [
    "3 * name"
   ]
  },
  {
   "cell_type": "code",
   "execution_count": 6,
   "id": "2a0d7684-8c2f-4c2d-ada8-58955f82cec2",
   "metadata": {},
   "outputs": [
    {
     "data": {
      "text/plain": [
       "'alisankoroglu'"
      ]
     },
     "execution_count": 6,
     "metadata": {},
     "output_type": "execute_result"
    }
   ],
   "source": [
    "\"alisan\" + \"koroglu\""
   ]
  },
  {
   "cell_type": "code",
   "execution_count": 8,
   "id": "f240b545-b55a-4bf5-a1fe-6ebf02080690",
   "metadata": {},
   "outputs": [
    {
     "data": {
      "text/plain": [
       "'Elisan'"
      ]
     },
     "execution_count": 8,
     "metadata": {},
     "output_type": "execute_result"
    }
   ],
   "source": [
    "\"E\" + name[1:]"
   ]
  },
  {
   "cell_type": "code",
   "execution_count": 9,
   "id": "a022e9a5-1bad-4825-b07c-b07270d6040f",
   "metadata": {},
   "outputs": [],
   "source": [
    "names = [\"ali\", \"veli\", \"ayşe\"]"
   ]
  },
  {
   "cell_type": "code",
   "execution_count": 10,
   "id": "b44b4d76-abd9-402a-aaed-c9e74d85e1bf",
   "metadata": {},
   "outputs": [
    {
     "name": "stdout",
     "output_type": "stream",
     "text": [
      "names: ali\n",
      "names: veli\n",
      "names: ayşe\n"
     ]
    }
   ],
   "source": [
    "for i in names:\n",
    "    print(\"names: \", i,sep = \"\")"
   ]
  },
  {
   "cell_type": "code",
   "execution_count": 11,
   "id": "fdbb21ed-a636-47fb-a720-3ed86930b3b7",
   "metadata": {},
   "outputs": [
    {
     "name": "stdout",
     "output_type": "stream",
     "text": [
      "_ali\n",
      "_veli\n",
      "_ayşe\n"
     ]
    }
   ],
   "source": [
    "for i in names:\n",
    "    print(\"_\", i[0:], sep = \"\")"
   ]
  },
  {
   "cell_type": "code",
   "execution_count": 12,
   "id": "2f929df9-3c5a-4e4c-8fb0-8f17755e0cec",
   "metadata": {},
   "outputs": [
    {
     "name": "stdout",
     "output_type": "stream",
     "text": [
      "(0, 'ali') (1, 'veli') (2, 'ayşe')\n"
     ]
    }
   ],
   "source": [
    "print(*enumerate(names))"
   ]
  },
  {
   "cell_type": "code",
   "execution_count": 14,
   "id": "d55e51f8-c65f-4ece-b74b-5a776bae239e",
   "metadata": {},
   "outputs": [
    {
     "name": "stdout",
     "output_type": "stream",
     "text": [
      "(0, 'ali')\n",
      "(1, 'veli')\n",
      "(2, 'ayşe')\n"
     ]
    }
   ],
   "source": [
    "for i in enumerate(names):\n",
    "    print(i)"
   ]
  },
  {
   "cell_type": "code",
   "execution_count": 15,
   "id": "6d216d17-1d59-434f-823d-188cb6d79999",
   "metadata": {},
   "outputs": [
    {
     "name": "stdout",
     "output_type": "stream",
     "text": [
      "(0, 'n')\n",
      "(1, 'a')\n",
      "(2, 'm')\n",
      "(3, 'e')\n",
      "(4, 's')\n"
     ]
    }
   ],
   "source": [
    "for i in enumerate(\"names\"):\n",
    "    print(i)"
   ]
  },
  {
   "cell_type": "code",
   "execution_count": 16,
   "id": "29250234-c3ff-4c18-9509-7b50c2cdf5f4",
   "metadata": {},
   "outputs": [
    {
     "name": "stdout",
     "output_type": "stream",
     "text": [
      "(1, 'ali')\n",
      "(2, 'veli')\n",
      "(3, 'ayşe')\n"
     ]
    }
   ],
   "source": [
    "for i in enumerate(names,1): # Starts numbering from 1\n",
    "    print(i)"
   ]
  },
  {
   "cell_type": "markdown",
   "id": "db0620fa-c448-4fbc-bef0-bc649030d1d5",
   "metadata": {
    "jp-MarkdownHeadingCollapsed": true
   },
   "source": [
    "## In-Array Type Queries"
   ]
  },
  {
   "cell_type": "code",
   "execution_count": 25,
   "id": "8d6a3603-f45a-49c6-b023-68aee650d519",
   "metadata": {},
   "outputs": [
    {
     "data": {
      "text/plain": [
       "True"
      ]
     },
     "execution_count": 25,
     "metadata": {},
     "output_type": "execute_result"
    }
   ],
   "source": [
    "\"alisan\".isalpha() # Does it consist entirely of letters?"
   ]
  },
  {
   "cell_type": "code",
   "execution_count": 26,
   "id": "f37eadac-da87-46cd-98b3-b2cdec8c90f8",
   "metadata": {},
   "outputs": [
    {
     "data": {
      "text/plain": [
       "False"
      ]
     },
     "execution_count": 26,
     "metadata": {},
     "output_type": "execute_result"
    }
   ],
   "source": [
    "\"alisan32\".isalpha()"
   ]
  },
  {
   "cell_type": "code",
   "execution_count": 27,
   "id": "1d9985e7-24ee-4970-ba56-01a424f7bb58",
   "metadata": {},
   "outputs": [
    {
     "data": {
      "text/plain": [
       "True"
      ]
     },
     "execution_count": 27,
     "metadata": {},
     "output_type": "execute_result"
    }
   ],
   "source": [
    "\"123\".isnumeric() # Is it entirely numeric?"
   ]
  },
  {
   "cell_type": "code",
   "execution_count": 28,
   "id": "b3179e6b-2076-4e77-a85d-3de26f9e51c9",
   "metadata": {},
   "outputs": [
    {
     "data": {
      "text/plain": [
       "True"
      ]
     },
     "execution_count": 28,
     "metadata": {},
     "output_type": "execute_result"
    }
   ],
   "source": [
    "\"123\".isdigit() # Is it entirely digits?"
   ]
  },
  {
   "cell_type": "code",
   "execution_count": 29,
   "id": "213ae119-3cd2-4574-9d13-528d2901d22b",
   "metadata": {},
   "outputs": [
    {
     "data": {
      "text/plain": [
       "True"
      ]
     },
     "execution_count": 29,
     "metadata": {},
     "output_type": "execute_result"
    }
   ],
   "source": [
    "\"123\".isalnum() # Is it entirely numeric or alphabetic?"
   ]
  },
  {
   "cell_type": "markdown",
   "id": "a47f4058-5005-42a7-a493-510350c1e3da",
   "metadata": {
    "jp-MarkdownHeadingCollapsed": true
   },
   "source": [
    "## Accessing Elements and Their Indexes"
   ]
  },
  {
   "cell_type": "code",
   "execution_count": 17,
   "id": "5d28d3a9-c0e9-45fa-85f0-6c710f74a477",
   "metadata": {},
   "outputs": [],
   "source": [
    "name = \"alisanKoroglu\""
   ]
  },
  {
   "cell_type": "code",
   "execution_count": 18,
   "id": "fd69eb5d-a7ea-4e34-86e7-17cc01889d4c",
   "metadata": {},
   "outputs": [
    {
     "data": {
      "text/plain": [
       "'alisanKoroglu'"
      ]
     },
     "execution_count": 18,
     "metadata": {},
     "output_type": "execute_result"
    }
   ],
   "source": [
    "name"
   ]
  },
  {
   "cell_type": "code",
   "execution_count": 19,
   "id": "25338938-7d78-4840-8c6a-42c28266172b",
   "metadata": {},
   "outputs": [
    {
     "data": {
      "text/plain": [
       "'al'"
      ]
     },
     "execution_count": 19,
     "metadata": {},
     "output_type": "execute_result"
    }
   ],
   "source": [
    "name[0:2]"
   ]
  },
  {
   "cell_type": "code",
   "execution_count": 31,
   "id": "4796078b-23c7-424b-a422-a10af08e8d09",
   "metadata": {},
   "outputs": [
    {
     "data": {
      "text/plain": [
       "5"
      ]
     },
     "execution_count": 31,
     "metadata": {},
     "output_type": "execute_result"
    }
   ],
   "source": [
    "name.index(\"n\") # gives the indexof the character"
   ]
  },
  {
   "cell_type": "code",
   "execution_count": 32,
   "id": "209a77db-2cf0-4745-a5f7-4de85da1f091",
   "metadata": {},
   "outputs": [
    {
     "data": {
      "text/plain": [
       "0"
      ]
     },
     "execution_count": 32,
     "metadata": {},
     "output_type": "execute_result"
    }
   ],
   "source": [
    "name.index(\"a\") # Returns the index of the first occurrence of the character."
   ]
  },
  {
   "cell_type": "code",
   "execution_count": 33,
   "id": "75f242b8-4d24-429f-8376-149ec1f53644",
   "metadata": {},
   "outputs": [
    {
     "data": {
      "text/plain": [
       "4"
      ]
     },
     "execution_count": 33,
     "metadata": {},
     "output_type": "execute_result"
    }
   ],
   "source": [
    "# To find another one\n",
    "name.index(\"a\", 2) # Start searching from index 2."
   ]
  },
  {
   "cell_type": "markdown",
   "id": "a0e627d5-9b8d-4c5b-bfe4-ce57d31a2c09",
   "metadata": {
    "jp-MarkdownHeadingCollapsed": true
   },
   "source": [
    "## Querying Start and End Characters: `startswith()` & `endswith()`"
   ]
  },
  {
   "cell_type": "code",
   "execution_count": 34,
   "id": "94efb86d-ebdc-4b27-8325-93506767c9f0",
   "metadata": {},
   "outputs": [],
   "source": [
    "name = \"alisanKoroglu\""
   ]
  },
  {
   "cell_type": "code",
   "execution_count": 35,
   "id": "3362b34f-b256-4ee4-975b-88b3c14d5122",
   "metadata": {},
   "outputs": [
    {
     "data": {
      "text/plain": [
       "True"
      ]
     },
     "execution_count": 35,
     "metadata": {},
     "output_type": "execute_result"
    }
   ],
   "source": [
    "name.startswith(\"a\") # Does the name start with the character \"a\"?"
   ]
  },
  {
   "cell_type": "code",
   "execution_count": 36,
   "id": "12d3ae8b-bb8f-46b7-97e4-e6e726cfc685",
   "metadata": {},
   "outputs": [
    {
     "data": {
      "text/plain": [
       "False"
      ]
     },
     "execution_count": 36,
     "metadata": {},
     "output_type": "execute_result"
    }
   ],
   "source": [
    "name.startswith(\"A\") # Python is case-sensitive (uppercase and lowercase letters matter)."
   ]
  },
  {
   "cell_type": "code",
   "execution_count": 37,
   "id": "65df9b57-3012-4192-badf-83f6b2f8ad9b",
   "metadata": {},
   "outputs": [
    {
     "data": {
      "text/plain": [
       "False"
      ]
     },
     "execution_count": 37,
     "metadata": {},
     "output_type": "execute_result"
    }
   ],
   "source": [
    "name.startswith(\"L\")"
   ]
  },
  {
   "cell_type": "code",
   "execution_count": 39,
   "id": "04a9a99a-e2bb-4000-9677-18b9599770fe",
   "metadata": {},
   "outputs": [
    {
     "data": {
      "text/plain": [
       "True"
      ]
     },
     "execution_count": 39,
     "metadata": {},
     "output_type": "execute_result"
    }
   ],
   "source": [
    "name.endswith(\"u\") # Does the name end with the character \"u\"?"
   ]
  },
  {
   "cell_type": "code",
   "execution_count": 40,
   "id": "c5ac6c4d-8c7f-4e79-b76a-4b14814299a4",
   "metadata": {},
   "outputs": [
    {
     "data": {
      "text/plain": [
       "False"
      ]
     },
     "execution_count": 40,
     "metadata": {},
     "output_type": "execute_result"
    }
   ],
   "source": [
    "name.endswith(\"h\")"
   ]
  },
  {
   "cell_type": "code",
   "execution_count": 41,
   "id": "6f0b7e78-8258-44f9-b7a5-c9b19d14d79c",
   "metadata": {},
   "outputs": [
    {
     "data": {
      "text/plain": [
       "2"
      ]
     },
     "execution_count": 41,
     "metadata": {},
     "output_type": "execute_result"
    }
   ],
   "source": [
    "isim.count(\"a\") # How many 'a' characters are there?"
   ]
  },
  {
   "cell_type": "code",
   "execution_count": 42,
   "id": "e3a69314-a545-45c9-b6cf-edd0b4b05943",
   "metadata": {},
   "outputs": [
    {
     "data": {
      "text/plain": [
       "['d', 'e', 'e', 'f', 'r', 't']"
      ]
     },
     "execution_count": 42,
     "metadata": {},
     "output_type": "execute_result"
    }
   ],
   "source": [
    "# sorted: Sorts elements alphabetically.\n",
    "sorted(\"defter\") "
   ]
  },
  {
   "cell_type": "code",
   "execution_count": 43,
   "id": "676faaa0-cb5f-4205-a270-b650428224c2",
   "metadata": {},
   "outputs": [
    {
     "name": "stdout",
     "output_type": "stream",
     "text": [
      "deefrt\n"
     ]
    }
   ],
   "source": [
    "print(*sorted(\"defter\"), sep = \"\") # **Using `*` prints without spaces (concatenates the elements).**"
   ]
  },
  {
   "cell_type": "markdown",
   "id": "12143ccb-e30c-4de6-bb3c-0b17c7574f16",
   "metadata": {
    "jp-MarkdownHeadingCollapsed": true
   },
   "source": [
    "## Splitting Characters"
   ]
  },
  {
   "cell_type": "code",
   "execution_count": 44,
   "id": "79e4e384-f8bb-4a34-960a-8f2cb2a75e1c",
   "metadata": {},
   "outputs": [],
   "source": [
    "name = \"Alisan Koroglu\""
   ]
  },
  {
   "cell_type": "code",
   "execution_count": 45,
   "id": "8918904e-63b9-4eb1-9e26-1782bf25086d",
   "metadata": {},
   "outputs": [
    {
     "data": {
      "text/plain": [
       "['Alisan', 'Koroglu']"
      ]
     },
     "execution_count": 45,
     "metadata": {},
     "output_type": "execute_result"
    }
   ],
   "source": [
    "name.split() # Split by spaces."
   ]
  },
  {
   "cell_type": "code",
   "execution_count": 46,
   "id": "ca8c5a39-2387-437a-bc99-6c2dfb505491",
   "metadata": {},
   "outputs": [
    {
     "data": {
      "text/plain": [
       "['Alis', 'n Koroglu']"
      ]
     },
     "execution_count": 46,
     "metadata": {},
     "output_type": "execute_result"
    }
   ],
   "source": [
    "name.split(\"a\") # Splits by the character 'a'."
   ]
  },
  {
   "cell_type": "code",
   "execution_count": 48,
   "id": "732e408a-a5bf-44de-834e-76ff6c3ff493",
   "metadata": {},
   "outputs": [
    {
     "data": {
      "text/plain": [
       "['Alisan', 'Koroglu']"
      ]
     },
     "execution_count": 48,
     "metadata": {},
     "output_type": "execute_result"
    }
   ],
   "source": [
    "name = \"Alisan_Koroglu\"\n",
    "name.split(\"_\") # Splits by the character '_'."
   ]
  },
  {
   "cell_type": "markdown",
   "id": "ead62db3-cff1-4480-b862-0b597c7910db",
   "metadata": {
    "jp-MarkdownHeadingCollapsed": true
   },
   "source": [
    "## Uppercase and Lowercase Operations"
   ]
  },
  {
   "cell_type": "code",
   "execution_count": 49,
   "id": "b1d92bf1-7590-4f39-9982-748fd775b5d4",
   "metadata": {},
   "outputs": [],
   "source": [
    "name = \"Alisan Koroglu\""
   ]
  },
  {
   "cell_type": "code",
   "execution_count": 51,
   "id": "bfa15473-4753-4dbe-a53d-f5b0169ff379",
   "metadata": {},
   "outputs": [
    {
     "data": {
      "text/plain": [
       "'ALISAN KOROGLU'"
      ]
     },
     "execution_count": 51,
     "metadata": {},
     "output_type": "execute_result"
    }
   ],
   "source": [
    "name.upper()"
   ]
  },
  {
   "cell_type": "code",
   "execution_count": 52,
   "id": "57d7c7ad-cd9d-43e4-b8a1-cddeb1f9d9f0",
   "metadata": {},
   "outputs": [
    {
     "data": {
      "text/plain": [
       "'alisan koroglu'"
      ]
     },
     "execution_count": 52,
     "metadata": {},
     "output_type": "execute_result"
    }
   ],
   "source": [
    "name.lower()"
   ]
  },
  {
   "cell_type": "code",
   "execution_count": 53,
   "id": "b466cc91-3816-494b-a585-8a076b1c33c4",
   "metadata": {},
   "outputs": [
    {
     "data": {
      "text/plain": [
       "'alisan koroglu'"
      ]
     },
     "execution_count": 53,
     "metadata": {},
     "output_type": "execute_result"
    }
   ],
   "source": [
    "name.upper().lower()"
   ]
  },
  {
   "cell_type": "code",
   "execution_count": 55,
   "id": "4fde14b1-aee6-4276-b2bc-8d36fc62cd87",
   "metadata": {},
   "outputs": [
    {
     "data": {
      "text/plain": [
       "'ALISAN KOROGLU'"
      ]
     },
     "execution_count": 55,
     "metadata": {},
     "output_type": "execute_result"
    }
   ],
   "source": [
    "name_Capital = name.upper()\n",
    "name_Capital"
   ]
  },
  {
   "cell_type": "code",
   "execution_count": 56,
   "id": "bcaab278-4d99-496b-90e3-c2a3f54a1abd",
   "metadata": {},
   "outputs": [
    {
     "data": {
      "text/plain": [
       "False"
      ]
     },
     "execution_count": 56,
     "metadata": {},
     "output_type": "execute_result"
    }
   ],
   "source": [
    "name_Capital.islower() # Does it consist entirely of lowercase letters?"
   ]
  },
  {
   "cell_type": "code",
   "execution_count": 57,
   "id": "8523e7f9-9730-4547-ba99-1fb8a4b52206",
   "metadata": {},
   "outputs": [
    {
     "data": {
      "text/plain": [
       "True"
      ]
     },
     "execution_count": 57,
     "metadata": {},
     "output_type": "execute_result"
    }
   ],
   "source": [
    "name_Capital.isupper() # Does it consist entirely of uppercase letters?"
   ]
  },
  {
   "cell_type": "markdown",
   "id": "21b2bed8-3ae9-421a-bd8c-c0edbbb4f62b",
   "metadata": {
    "jp-MarkdownHeadingCollapsed": true
   },
   "source": [
    "## capitalize() & title() & swapcase()"
   ]
  },
  {
   "cell_type": "code",
   "execution_count": 62,
   "id": "40326506-cfd8-4927-9536-e454ef0b2fc8",
   "metadata": {},
   "outputs": [],
   "source": [
    "name = \"alisan koroglu\""
   ]
  },
  {
   "cell_type": "code",
   "execution_count": 64,
   "id": "6f4953c5-4ba7-4da5-9051-32799817a421",
   "metadata": {},
   "outputs": [
    {
     "data": {
      "text/plain": [
       "'Alisan koroglu'"
      ]
     },
     "execution_count": 64,
     "metadata": {},
     "output_type": "execute_result"
    }
   ],
   "source": [
    "name.capitalize() # Capitalizes the first letter of the given string."
   ]
  },
  {
   "cell_type": "code",
   "execution_count": 65,
   "id": "a7afd758-c82c-4589-a70e-612368854fad",
   "metadata": {},
   "outputs": [
    {
     "data": {
      "text/plain": [
       "'Alisan Koroglu'"
      ]
     },
     "execution_count": 65,
     "metadata": {},
     "output_type": "execute_result"
    }
   ],
   "source": [
    "name.title() # Capitalizes the first letter of each word."
   ]
  },
  {
   "cell_type": "code",
   "execution_count": 66,
   "id": "78d851de-4a0f-40c4-bfac-735b12fd2e15",
   "metadata": {},
   "outputs": [
    {
     "data": {
      "text/plain": [
       "'ALISAN KOROGLU'"
      ]
     },
     "execution_count": 66,
     "metadata": {},
     "output_type": "execute_result"
    }
   ],
   "source": [
    "name.swapcase() # in this case capitalize all letters but"
   ]
  },
  {
   "cell_type": "code",
   "execution_count": 68,
   "id": "c5bd1b0d-a05e-45ff-a540-5a6dcd5a29ee",
   "metadata": {},
   "outputs": [
    {
     "data": {
      "text/plain": [
       "'alisan KOROGLU'"
      ]
     },
     "execution_count": 68,
     "metadata": {},
     "output_type": "execute_result"
    }
   ],
   "source": [
    "name = \"ALISAN koroglu\" # in this case changed upper to lower, lower to upper\n",
    "name.swapcase()"
   ]
  },
  {
   "cell_type": "markdown",
   "id": "a316761c-58e0-426c-9c7c-efc4a0c4d5ee",
   "metadata": {
    "jp-MarkdownHeadingCollapsed": true
   },
   "source": [
    "## Trimming Unwanted Characters: `strip()`, `lstrip()`, `rstrip()`"
   ]
  },
  {
   "cell_type": "code",
   "execution_count": 72,
   "id": "396b08ca-3582-4f73-809f-1c2fd134833e",
   "metadata": {},
   "outputs": [
    {
     "data": {
      "text/plain": [
       "'alisan'"
      ]
     },
     "execution_count": 72,
     "metadata": {},
     "output_type": "execute_result"
    }
   ],
   "source": [
    "name = \" alisan \"\n",
    "name.strip() # Removes leading and trailing spaces."
   ]
  },
  {
   "cell_type": "code",
   "execution_count": 83,
   "id": "05d7b69d-8435-4200-949f-03b913c6d216",
   "metadata": {},
   "outputs": [
    {
     "data": {
      "text/plain": [
       "'*alisan*'"
      ]
     },
     "execution_count": 83,
     "metadata": {},
     "output_type": "execute_result"
    }
   ],
   "source": [
    "name = \"*alisan*\"\n",
    "name.strip() "
   ]
  },
  {
   "cell_type": "code",
   "execution_count": 74,
   "id": "a0c78486-5b32-4627-92e2-a00375c19270",
   "metadata": {},
   "outputs": [
    {
     "data": {
      "text/plain": [
       "'alisan'"
      ]
     },
     "execution_count": 74,
     "metadata": {},
     "output_type": "execute_result"
    }
   ],
   "source": [
    "name.strip(\"*\") # Removes `*` characters from both the left and right sides."
   ]
  },
  {
   "cell_type": "code",
   "execution_count": 75,
   "id": "11bdcc98-ebae-4db4-8392-85fc517890d4",
   "metadata": {},
   "outputs": [
    {
     "data": {
      "text/plain": [
       "'hello'"
      ]
     },
     "execution_count": 75,
     "metadata": {},
     "output_type": "execute_result"
    }
   ],
   "source": [
    "name = \"lhellol\"\n",
    "name.strip(\"l\")"
   ]
  },
  {
   "cell_type": "code",
   "execution_count": 76,
   "id": "829a480c-f13e-4345-9e0b-a35cd1a4a74c",
   "metadata": {},
   "outputs": [
    {
     "data": {
      "text/plain": [
       "'*hello'"
      ]
     },
     "execution_count": 76,
     "metadata": {},
     "output_type": "execute_result"
    }
   ],
   "source": [
    "name = \"*hello*\"\n",
    "name.rstrip(\"*\") # Removes from the right side only."
   ]
  },
  {
   "cell_type": "code",
   "execution_count": 77,
   "id": "bfff6a77-4ea4-47b7-bb08-a86e910ffadf",
   "metadata": {},
   "outputs": [
    {
     "data": {
      "text/plain": [
       "'hello*'"
      ]
     },
     "execution_count": 77,
     "metadata": {},
     "output_type": "execute_result"
    }
   ],
   "source": [
    "name.lstrip(\"*\") # Removes from the left side only."
   ]
  },
  {
   "cell_type": "markdown",
   "id": "ad0a72af-c588-454e-87b9-b5c7e096cd30",
   "metadata": {
    "jp-MarkdownHeadingCollapsed": true
   },
   "source": [
    "## `join`: Merging Split or Already Separated Strings"
   ]
  },
  {
   "cell_type": "code",
   "execution_count": 78,
   "id": "03049790-be76-4062-ade7-08df59105f1b",
   "metadata": {},
   "outputs": [],
   "source": [
    "name = \"alisan koroglu\""
   ]
  },
  {
   "cell_type": "code",
   "execution_count": 79,
   "id": "3fc5bb21-e2aa-4d45-9f74-d2bba506c8ba",
   "metadata": {},
   "outputs": [
    {
     "data": {
      "text/plain": [
       "['alisan', 'koroglu']"
      ]
     },
     "execution_count": 79,
     "metadata": {},
     "output_type": "execute_result"
    }
   ],
   "source": [
    "split = name.split()\n",
    "split"
   ]
  },
  {
   "cell_type": "code",
   "execution_count": 81,
   "id": "e3a28b0e-e980-4a45-9e31-b3d2dfb63a21",
   "metadata": {},
   "outputs": [
    {
     "data": {
      "text/plain": [
       "'alisan koroglu'"
      ]
     },
     "execution_count": 81,
     "metadata": {},
     "output_type": "execute_result"
    }
   ],
   "source": [
    "joiner = \" \" # Specifies the separator to be used when joining elements.\n",
    "joiner.join(split)"
   ]
  },
  {
   "cell_type": "code",
   "execution_count": 82,
   "id": "a098e19a-1d5b-4da8-9cb6-5fe460a2decc",
   "metadata": {},
   "outputs": [
    {
     "data": {
      "text/plain": [
       "'alisan***koroglu'"
      ]
     },
     "execution_count": 82,
     "metadata": {},
     "output_type": "execute_result"
    }
   ],
   "source": [
    "joiner = \"***\" # Specifies the separator to be used when joining elements.\n",
    "joiner.join(split)"
   ]
  },
  {
   "cell_type": "markdown",
   "id": "a175ca95-406d-4fd1-a2c7-26435a7b4ef8",
   "metadata": {
    "jp-MarkdownHeadingCollapsed": true
   },
   "source": [
    "## Replacing Elements: `replace()`, `str.maketrans()`, `translate()`"
   ]
  },
  {
   "cell_type": "code",
   "execution_count": 84,
   "id": "7de73d10-a0a1-4dc9-8a00-af8200f24789",
   "metadata": {},
   "outputs": [],
   "source": [
    "name = \"alisan koroglu\""
   ]
  },
  {
   "cell_type": "code",
   "execution_count": 86,
   "id": "51c0ca09-a188-4808-915b-4084a0efddf5",
   "metadata": {},
   "outputs": [
    {
     "data": {
      "text/plain": [
       "'ElisEn koroglu'"
      ]
     },
     "execution_count": 86,
     "metadata": {},
     "output_type": "execute_result"
    }
   ],
   "source": [
    "name.replace(\"a\", \"E\") # Replaces the letter 'E' with the letter 'a'."
   ]
  },
  {
   "cell_type": "code",
   "execution_count": 88,
   "id": "b9049203-1352-4f88-9cf0-fd513d36da8c",
   "metadata": {},
   "outputs": [
    {
     "data": {
      "text/plain": [
       "'alisan KAroglu'"
      ]
     },
     "execution_count": 88,
     "metadata": {},
     "output_type": "execute_result"
    }
   ],
   "source": [
    "name.replace(\"ko\",\"KA\")"
   ]
  },
  {
   "cell_type": "code",
   "execution_count": 94,
   "id": "d727d1c2-33af-46da-a11e-a77a8b1928b2",
   "metadata": {},
   "outputs": [],
   "source": [
    "# When we want to replace some characters with anothers\n",
    "\n",
    "phrase = \"Bu ifade İçerisinde bağzı Türkçe karakterler vardır\""
   ]
  },
  {
   "cell_type": "code",
   "execution_count": 95,
   "id": "13680329-a7ae-4990-8b64-0db428b2b009",
   "metadata": {},
   "outputs": [],
   "source": [
    "letters_to_be_corrected = \"çÇğĞıİöÖşŞüÜ\"\n",
    "corrected_letters = \"cCgGiIoOsSuU\""
   ]
  },
  {
   "cell_type": "code",
   "execution_count": 96,
   "id": "4e4f78a9-b43c-4f86-a5cb-e4c753d82355",
   "metadata": {},
   "outputs": [
    {
     "data": {
      "text/plain": [
       "'Bu ifade Icerisinde bagzi Turkce karakterler vardir'"
      ]
     },
     "execution_count": 96,
     "metadata": {},
     "output_type": "execute_result"
    }
   ],
   "source": [
    "correction = str.maketrans(letters_to_be_corrected, corrected_letters)\n",
    "phrase.translate(correction)"
   ]
  },
  {
   "cell_type": "markdown",
   "id": "5a88ca85-2da2-41f5-9dc6-f9ff7037d94f",
   "metadata": {
    "jp-MarkdownHeadingCollapsed": true
   },
   "source": [
    "## contains"
   ]
  },
  {
   "cell_type": "code",
   "execution_count": 98,
   "id": "1b2aac95-9099-4fad-a329-97ecd18986d0",
   "metadata": {},
   "outputs": [
    {
     "data": {
      "text/plain": [
       "0       ayse\n",
       "1       Ayşe\n",
       "2        ali\n",
       "3       aali\n",
       "4        Ali\n",
       "5       veli\n",
       "6     mehmet\n",
       "7    berkcan\n",
       "dtype: object"
      ]
     },
     "execution_count": 98,
     "metadata": {},
     "output_type": "execute_result"
    }
   ],
   "source": [
    "import pandas as pd\n",
    "\n",
    "names = [\"ayse\", \"Ayşe\", \"ali\", \"aali\", \"Ali\", \"veli\", \"mehmet\", \"berkcan\"]\n",
    "name_series = pd.Series(names)\n",
    "name_series"
   ]
  },
  {
   "cell_type": "code",
   "execution_count": 99,
   "id": "84fbf94d-65ff-4fac-afa8-3f3c412af1c7",
   "metadata": {},
   "outputs": [
    {
     "data": {
      "text/plain": [
       "0    False\n",
       "1    False\n",
       "2     True\n",
       "3     True\n",
       "4    False\n",
       "5    False\n",
       "6    False\n",
       "7    False\n",
       "dtype: bool"
      ]
     },
     "execution_count": 99,
     "metadata": {},
     "output_type": "execute_result"
    }
   ],
   "source": [
    "name_series.str.contains(\"al\") # Checks whether the strings in the series contain \"al\"."
   ]
  },
  {
   "cell_type": "code",
   "execution_count": 100,
   "id": "55f6b0b2-adff-4ec7-b99a-196b5f7f3bcf",
   "metadata": {},
   "outputs": [
    {
     "data": {
      "text/plain": [
       "2     ali\n",
       "3    aali\n",
       "dtype: object"
      ]
     },
     "execution_count": 100,
     "metadata": {},
     "output_type": "execute_result"
    }
   ],
   "source": [
    "name_series[name_series.str.contains(\"al\")] # Retrieves values that contain \"al\"."
   ]
  },
  {
   "cell_type": "code",
   "execution_count": 101,
   "id": "c34ef073-c9b8-4678-9678-e37b832b7dd7",
   "metadata": {},
   "outputs": [
    {
     "data": {
      "text/plain": [
       "2"
      ]
     },
     "execution_count": 101,
     "metadata": {},
     "output_type": "execute_result"
    }
   ],
   "source": [
    "name_series.str.contains(\"al\").sum() # Counts how many values contain \"al\"."
   ]
  },
  {
   "cell_type": "code",
   "execution_count": 102,
   "id": "c25bb60f-bde9-4402-b4e3-16a3f9fc2aa0",
   "metadata": {},
   "outputs": [
    {
     "data": {
      "text/plain": [
       "3"
      ]
     },
     "execution_count": 102,
     "metadata": {},
     "output_type": "execute_result"
    }
   ],
   "source": [
    "v.str.contains(\"[aA]li\").sum()  # Includes the letter 'a' regardless of case (uppercase or lowercase)."
   ]
  },
  {
   "cell_type": "markdown",
   "id": "56edde88-71a6-4c6b-b0c1-2228566da1ab",
   "metadata": {},
   "source": [
    "# Introduction to Text Mining and Natural Language Processing (NLP)"
   ]
  },
  {
   "cell_type": "markdown",
   "id": "76a540c1-02b0-4f16-b9ed-137e15120227",
   "metadata": {
    "jp-MarkdownHeadingCollapsed": true
   },
   "source": [
    "## Text Preprocessing"
   ]
  },
  {
   "cell_type": "markdown",
   "id": "b0746201-2859-43d5-b0e6-6e570414dbc0",
   "metadata": {},
   "source": [
    "* Sherlock Holmes novel titles in a slightly noisy form, including trailing numbers, etc.\n",
    "* Our first problem is converting this expression into a vector."
   ]
  },
  {
   "cell_type": "code",
   "execution_count": 6,
   "id": "285e7322-4c5a-463f-8d95-93a81a63e0d2",
   "metadata": {},
   "outputs": [
    {
     "data": {
      "text/plain": [
       "\"\\nA Scandal in Bohemia! 01\\nThe Red-headed League,2\\nA Case, of Identity 33\\nThe Boscombe Valley Mystery4\\nThe Five Orange Pips1\\nThe Man with? the Twisted Lip\\nThe Adventure of the Blue Carbuncle\\nThe Adventure of the Speckled Band\\nThe Adventure of the Engineer's Thumb\\nThe Adventure of the Noble Bachelor\\nThe Adventure of the Beryl Coronet\\nThe Adventure of the Copper Beeches\""
      ]
     },
     "execution_count": 6,
     "metadata": {},
     "output_type": "execute_result"
    }
   ],
   "source": [
    "text = \"\"\"\n",
    "A Scandal in Bohemia! 01\n",
    "The Red-headed League,2\n",
    "A Case, of Identity 33\n",
    "The Boscombe Valley Mystery4\n",
    "The Five Orange Pips1\n",
    "The Man with? the Twisted Lip\n",
    "The Adventure of the Blue Carbuncle\n",
    "The Adventure of the Speckled Band\n",
    "The Adventure of the Engineer's Thumb\n",
    "The Adventure of the Noble Bachelor\n",
    "The Adventure of the Beryl Coronet\n",
    "The Adventure of the Copper Beeches\"\"\"\n",
    "\n",
    "text "
   ]
  },
  {
   "cell_type": "markdown",
   "id": "4954bbe5-9cf7-4c31-8a40-c7a8c3d99199",
   "metadata": {
    "jp-MarkdownHeadingCollapsed": true
   },
   "source": [
    "### Convert the string into a DataFrame/array/Series."
   ]
  },
  {
   "cell_type": "code",
   "execution_count": 9,
   "id": "3e128eef-126c-490f-b40d-11cc31f9f4f3",
   "metadata": {
    "scrolled": true
   },
   "outputs": [
    {
     "data": {
      "text/plain": [
       "['A',\n",
       " 'Scandal',\n",
       " 'in',\n",
       " 'Bohemia!',\n",
       " '01',\n",
       " 'The',\n",
       " 'Red-headed',\n",
       " 'League,2',\n",
       " 'A',\n",
       " 'Case,',\n",
       " 'of',\n",
       " 'Identity',\n",
       " '33',\n",
       " 'The',\n",
       " 'Boscombe',\n",
       " 'Valley',\n",
       " 'Mystery4',\n",
       " 'The',\n",
       " 'Five',\n",
       " 'Orange',\n",
       " 'Pips1',\n",
       " 'The',\n",
       " 'Man',\n",
       " 'with?',\n",
       " 'the',\n",
       " 'Twisted',\n",
       " 'Lip',\n",
       " 'The',\n",
       " 'Adventure',\n",
       " 'of',\n",
       " 'the',\n",
       " 'Blue',\n",
       " 'Carbuncle',\n",
       " 'The',\n",
       " 'Adventure',\n",
       " 'of',\n",
       " 'the',\n",
       " 'Speckled',\n",
       " 'Band',\n",
       " 'The',\n",
       " 'Adventure',\n",
       " 'of',\n",
       " 'the',\n",
       " \"Engineer's\",\n",
       " 'Thumb',\n",
       " 'The',\n",
       " 'Adventure',\n",
       " 'of',\n",
       " 'the',\n",
       " 'Noble',\n",
       " 'Bachelor',\n",
       " 'The',\n",
       " 'Adventure',\n",
       " 'of',\n",
       " 'the',\n",
       " 'Beryl',\n",
       " 'Coronet',\n",
       " 'The',\n",
       " 'Adventure',\n",
       " 'of',\n",
       " 'the',\n",
       " 'Copper',\n",
       " 'Beeches']"
      ]
     },
     "execution_count": 9,
     "metadata": {},
     "output_type": "execute_result"
    }
   ],
   "source": [
    "text.split()"
   ]
  },
  {
   "cell_type": "code",
   "execution_count": 11,
   "id": "8aeef0f0-4482-4ede-ab54-6940a66d392f",
   "metadata": {},
   "outputs": [
    {
     "data": {
      "text/plain": [
       "['',\n",
       " 'A Scandal in Bohemia! 01',\n",
       " 'The Red-headed League,2',\n",
       " 'A Case, of Identity 33',\n",
       " 'The Boscombe Valley Mystery4',\n",
       " 'The Five Orange Pips1',\n",
       " 'The Man with? the Twisted Lip',\n",
       " 'The Adventure of the Blue Carbuncle',\n",
       " 'The Adventure of the Speckled Band',\n",
       " \"The Adventure of the Engineer's Thumb\",\n",
       " 'The Adventure of the Noble Bachelor',\n",
       " 'The Adventure of the Beryl Coronet',\n",
       " 'The Adventure of the Copper Beeches']"
      ]
     },
     "execution_count": 11,
     "metadata": {},
     "output_type": "execute_result"
    }
   ],
   "source": [
    "text.split(\"\\n\")"
   ]
  },
  {
   "cell_type": "code",
   "execution_count": 13,
   "id": "a474287d-8d4c-424b-91e4-dc13408b5040",
   "metadata": {},
   "outputs": [],
   "source": [
    "text_list = text.split(\"\\n\")"
   ]
  },
  {
   "cell_type": "code",
   "execution_count": 15,
   "id": "203aeadd-b2e5-4097-be34-05f5cba3a2d2",
   "metadata": {},
   "outputs": [
    {
     "data": {
      "text/plain": [
       "0                                          \n",
       "1                  A Scandal in Bohemia! 01\n",
       "2                   The Red-headed League,2\n",
       "3                    A Case, of Identity 33\n",
       "4              The Boscombe Valley Mystery4\n",
       "5                     The Five Orange Pips1\n",
       "6             The Man with? the Twisted Lip\n",
       "7       The Adventure of the Blue Carbuncle\n",
       "8        The Adventure of the Speckled Band\n",
       "9     The Adventure of the Engineer's Thumb\n",
       "10      The Adventure of the Noble Bachelor\n",
       "11       The Adventure of the Beryl Coronet\n",
       "12      The Adventure of the Copper Beeches\n",
       "dtype: object"
      ]
     },
     "execution_count": 15,
     "metadata": {},
     "output_type": "execute_result"
    }
   ],
   "source": [
    "import pandas as pd\n",
    "text_pdSeries= pd.Series(text_list)\n",
    "text_pdSeries"
   ]
  },
  {
   "cell_type": "code",
   "execution_count": 17,
   "id": "439b6c96-6b24-4f12-b667-e6907a942250",
   "metadata": {},
   "outputs": [
    {
     "data": {
      "text/plain": [
       "1                  A Scandal in Bohemia! 01\n",
       "2                   The Red-headed League,2\n",
       "3                    A Case, of Identity 33\n",
       "4              The Boscombe Valley Mystery4\n",
       "5                     The Five Orange Pips1\n",
       "6             The Man with? the Twisted Lip\n",
       "7       The Adventure of the Blue Carbuncle\n",
       "8        The Adventure of the Speckled Band\n",
       "9     The Adventure of the Engineer's Thumb\n",
       "10      The Adventure of the Noble Bachelor\n",
       "11       The Adventure of the Beryl Coronet\n",
       "12      The Adventure of the Copper Beeches\n",
       "dtype: object"
      ]
     },
     "execution_count": 17,
     "metadata": {},
     "output_type": "execute_result"
    }
   ],
   "source": [
    "text_pdSeries = text_pdSeries[1:len(text_pdSeries)] # Got rid of the leading space.\n",
    "text_pdSeries"
   ]
  },
  {
   "cell_type": "code",
   "execution_count": 19,
   "id": "e082019e-ec61-44d3-9cea-d36199ab6d1e",
   "metadata": {},
   "outputs": [
    {
     "data": {
      "text/html": [
       "<div>\n",
       "<style scoped>\n",
       "    .dataframe tbody tr th:only-of-type {\n",
       "        vertical-align: middle;\n",
       "    }\n",
       "\n",
       "    .dataframe tbody tr th {\n",
       "        vertical-align: top;\n",
       "    }\n",
       "\n",
       "    .dataframe thead th {\n",
       "        text-align: right;\n",
       "    }\n",
       "</style>\n",
       "<table border=\"1\" class=\"dataframe\">\n",
       "  <thead>\n",
       "    <tr style=\"text-align: right;\">\n",
       "      <th></th>\n",
       "      <th>Sherlock Holmes Novels</th>\n",
       "    </tr>\n",
       "  </thead>\n",
       "  <tbody>\n",
       "    <tr>\n",
       "      <th>1</th>\n",
       "      <td>A Scandal in Bohemia! 01</td>\n",
       "    </tr>\n",
       "    <tr>\n",
       "      <th>2</th>\n",
       "      <td>The Red-headed League,2</td>\n",
       "    </tr>\n",
       "    <tr>\n",
       "      <th>3</th>\n",
       "      <td>A Case, of Identity 33</td>\n",
       "    </tr>\n",
       "    <tr>\n",
       "      <th>4</th>\n",
       "      <td>The Boscombe Valley Mystery4</td>\n",
       "    </tr>\n",
       "    <tr>\n",
       "      <th>5</th>\n",
       "      <td>The Five Orange Pips1</td>\n",
       "    </tr>\n",
       "    <tr>\n",
       "      <th>6</th>\n",
       "      <td>The Man with? the Twisted Lip</td>\n",
       "    </tr>\n",
       "    <tr>\n",
       "      <th>7</th>\n",
       "      <td>The Adventure of the Blue Carbuncle</td>\n",
       "    </tr>\n",
       "    <tr>\n",
       "      <th>8</th>\n",
       "      <td>The Adventure of the Speckled Band</td>\n",
       "    </tr>\n",
       "    <tr>\n",
       "      <th>9</th>\n",
       "      <td>The Adventure of the Engineer's Thumb</td>\n",
       "    </tr>\n",
       "    <tr>\n",
       "      <th>10</th>\n",
       "      <td>The Adventure of the Noble Bachelor</td>\n",
       "    </tr>\n",
       "    <tr>\n",
       "      <th>11</th>\n",
       "      <td>The Adventure of the Beryl Coronet</td>\n",
       "    </tr>\n",
       "    <tr>\n",
       "      <th>12</th>\n",
       "      <td>The Adventure of the Copper Beeches</td>\n",
       "    </tr>\n",
       "  </tbody>\n",
       "</table>\n",
       "</div>"
      ],
      "text/plain": [
       "                   Sherlock Holmes Novels\n",
       "1                A Scandal in Bohemia! 01\n",
       "2                 The Red-headed League,2\n",
       "3                  A Case, of Identity 33\n",
       "4            The Boscombe Valley Mystery4\n",
       "5                   The Five Orange Pips1\n",
       "6           The Man with? the Twisted Lip\n",
       "7     The Adventure of the Blue Carbuncle\n",
       "8      The Adventure of the Speckled Band\n",
       "9   The Adventure of the Engineer's Thumb\n",
       "10    The Adventure of the Noble Bachelor\n",
       "11     The Adventure of the Beryl Coronet\n",
       "12    The Adventure of the Copper Beeches"
      ]
     },
     "execution_count": 19,
     "metadata": {},
     "output_type": "execute_result"
    }
   ],
   "source": [
    "text_pdDataFrame = pd.DataFrame(text_pdSeries,columns = [\"Sherlock Holmes Novels\"])\n",
    "text_pdDataFrame"
   ]
  },
  {
   "cell_type": "markdown",
   "id": "8b9ed058-00d8-45a8-bf1b-595cf71c1ca7",
   "metadata": {
    "jp-MarkdownHeadingCollapsed": true
   },
   "source": [
    "### Uppercase - Lowercase"
   ]
  },
  {
   "cell_type": "code",
   "execution_count": 22,
   "id": "a0cb50f2-a9be-423b-bd76-c726a83787b4",
   "metadata": {},
   "outputs": [
    {
     "data": {
      "text/html": [
       "<div>\n",
       "<style scoped>\n",
       "    .dataframe tbody tr th:only-of-type {\n",
       "        vertical-align: middle;\n",
       "    }\n",
       "\n",
       "    .dataframe tbody tr th {\n",
       "        vertical-align: top;\n",
       "    }\n",
       "\n",
       "    .dataframe thead th {\n",
       "        text-align: right;\n",
       "    }\n",
       "</style>\n",
       "<table border=\"1\" class=\"dataframe\">\n",
       "  <thead>\n",
       "    <tr style=\"text-align: right;\">\n",
       "      <th></th>\n",
       "      <th>Sherlock Holmes Novels</th>\n",
       "    </tr>\n",
       "  </thead>\n",
       "  <tbody>\n",
       "    <tr>\n",
       "      <th>1</th>\n",
       "      <td>A Scandal in Bohemia! 01</td>\n",
       "    </tr>\n",
       "    <tr>\n",
       "      <th>2</th>\n",
       "      <td>The Red-headed League,2</td>\n",
       "    </tr>\n",
       "    <tr>\n",
       "      <th>3</th>\n",
       "      <td>A Case, of Identity 33</td>\n",
       "    </tr>\n",
       "    <tr>\n",
       "      <th>4</th>\n",
       "      <td>The Boscombe Valley Mystery4</td>\n",
       "    </tr>\n",
       "    <tr>\n",
       "      <th>5</th>\n",
       "      <td>The Five Orange Pips1</td>\n",
       "    </tr>\n",
       "    <tr>\n",
       "      <th>6</th>\n",
       "      <td>The Man with? the Twisted Lip</td>\n",
       "    </tr>\n",
       "    <tr>\n",
       "      <th>7</th>\n",
       "      <td>The Adventure of the Blue Carbuncle</td>\n",
       "    </tr>\n",
       "    <tr>\n",
       "      <th>8</th>\n",
       "      <td>The Adventure of the Speckled Band</td>\n",
       "    </tr>\n",
       "    <tr>\n",
       "      <th>9</th>\n",
       "      <td>The Adventure of the Engineer's Thumb</td>\n",
       "    </tr>\n",
       "    <tr>\n",
       "      <th>10</th>\n",
       "      <td>The Adventure of the Noble Bachelor</td>\n",
       "    </tr>\n",
       "    <tr>\n",
       "      <th>11</th>\n",
       "      <td>The Adventure of the Beryl Coronet</td>\n",
       "    </tr>\n",
       "    <tr>\n",
       "      <th>12</th>\n",
       "      <td>The Adventure of the Copper Beeches</td>\n",
       "    </tr>\n",
       "  </tbody>\n",
       "</table>\n",
       "</div>"
      ],
      "text/plain": [
       "                   Sherlock Holmes Novels\n",
       "1                A Scandal in Bohemia! 01\n",
       "2                 The Red-headed League,2\n",
       "3                  A Case, of Identity 33\n",
       "4            The Boscombe Valley Mystery4\n",
       "5                   The Five Orange Pips1\n",
       "6           The Man with? the Twisted Lip\n",
       "7     The Adventure of the Blue Carbuncle\n",
       "8      The Adventure of the Speckled Band\n",
       "9   The Adventure of the Engineer's Thumb\n",
       "10    The Adventure of the Noble Bachelor\n",
       "11     The Adventure of the Beryl Coronet\n",
       "12    The Adventure of the Copper Beeches"
      ]
     },
     "execution_count": 22,
     "metadata": {},
     "output_type": "execute_result"
    }
   ],
   "source": [
    "text1 = text_pdDataFrame.copy()\n",
    "text1"
   ]
  },
  {
   "cell_type": "markdown",
   "id": "2508b94e-47de-47ab-a175-e0810e922b44",
   "metadata": {},
   "source": [
    "* the code below converts each element of list1 into a string and then joins them using a specified character (in this case, a space \" \")."
   ]
  },
  {
   "cell_type": "code",
   "execution_count": 25,
   "id": "f4baa031-f91e-4a07-965b-da140f35dfad",
   "metadata": {},
   "outputs": [
    {
     "data": {
      "text/plain": [
       "'1 2 3'"
      ]
     },
     "execution_count": 25,
     "metadata": {},
     "output_type": "execute_result"
    }
   ],
   "source": [
    "list1 = [1, 2, 3]\n",
    "str1 = \" \".join(str(i) for i in list1)\n",
    "str1"
   ]
  },
  {
   "cell_type": "code",
   "execution_count": 27,
   "id": "e90756b5-a1d4-4855-8282-5e4b202c15fc",
   "metadata": {},
   "outputs": [
    {
     "data": {
      "text/plain": [
       "'123'"
      ]
     },
     "execution_count": 27,
     "metadata": {},
     "output_type": "execute_result"
    }
   ],
   "source": [
    "list1 = [1, 2, 3]\n",
    "str1 = \"\".join(str(i) for i in list1)\n",
    "str1"
   ]
  },
  {
   "cell_type": "markdown",
   "id": "731b6e93-4db4-4f74-bd47-07f92c30c056",
   "metadata": {},
   "source": [
    "**Converting all to lowercase.**\n",
    "* The given code applies a lambda function to each element in the `\"Sherlock Holmes Novels\"` column of the DataFrame `text1`, converting all words to lowercase. It first splits each text entry into a list of words using `x.split()`, then converts each word to lowercase with `x.lower()`, and finally joins the words back into a single string using `\" \".join(...)`. This ensures that all text in the column is transformed to lowercase while preserving word order. A more efficient alternative is using `text1[\"Sherlock Holmes Novels\"].str.lower()`, which directly converts the entire text to lowercase without splitting and joining."
   ]
  },
  {
   "cell_type": "code",
   "execution_count": 30,
   "id": "b047528d-7dd5-431d-8a02-c3915eb09ec3",
   "metadata": {},
   "outputs": [
    {
     "data": {
      "text/plain": [
       "1                  a scandal in bohemia! 01\n",
       "2                   the red-headed league,2\n",
       "3                    a case, of identity 33\n",
       "4              the boscombe valley mystery4\n",
       "5                     the five orange pips1\n",
       "6             the man with? the twisted lip\n",
       "7       the adventure of the blue carbuncle\n",
       "8        the adventure of the speckled band\n",
       "9     the adventure of the engineer's thumb\n",
       "10      the adventure of the noble bachelor\n",
       "11       the adventure of the beryl coronet\n",
       "12      the adventure of the copper beeches\n",
       "Name: Sherlock Holmes Novels, dtype: object"
      ]
     },
     "execution_count": 30,
     "metadata": {},
     "output_type": "execute_result"
    }
   ],
   "source": [
    "text1[\"Sherlock Holmes Novels\"].apply(lambda x:\" \".join(x.lower() for x in x.split()))"
   ]
  },
  {
   "cell_type": "code",
   "execution_count": 32,
   "id": "85447e83-4ad6-4576-9c43-cfccd27b6cf5",
   "metadata": {},
   "outputs": [
    {
     "data": {
      "text/plain": [
       "1                  a scandal in bohemia! 01\n",
       "2                   the red-headed league,2\n",
       "3                    a case, of identity 33\n",
       "4              the boscombe valley mystery4\n",
       "5                     the five orange pips1\n",
       "6             the man with? the twisted lip\n",
       "7       the adventure of the blue carbuncle\n",
       "8        the adventure of the speckled band\n",
       "9     the adventure of the engineer's thumb\n",
       "10      the adventure of the noble bachelor\n",
       "11       the adventure of the beryl coronet\n",
       "12      the adventure of the copper beeches\n",
       "Name: Sherlock Holmes Novels, dtype: object"
      ]
     },
     "execution_count": 32,
     "metadata": {},
     "output_type": "execute_result"
    }
   ],
   "source": [
    "text1[\"Sherlock Holmes Novels\"].apply(lambda x: \"\".join(x.lower()))"
   ]
  },
  {
   "cell_type": "code",
   "execution_count": 34,
   "id": "f584d530-0464-401c-a023-fa3ed1e7f364",
   "metadata": {},
   "outputs": [
    {
     "data": {
      "text/plain": [
       "1                  a scandal in bohemia! 01\n",
       "2                   the red-headed league,2\n",
       "3                    a case, of identity 33\n",
       "4              the boscombe valley mystery4\n",
       "5                     the five orange pips1\n",
       "6             the man with? the twisted lip\n",
       "7       the adventure of the blue carbuncle\n",
       "8        the adventure of the speckled band\n",
       "9     the adventure of the engineer's thumb\n",
       "10      the adventure of the noble bachelor\n",
       "11       the adventure of the beryl coronet\n",
       "12      the adventure of the copper beeches\n",
       "Name: Sherlock Holmes Novels, dtype: object"
      ]
     },
     "execution_count": 34,
     "metadata": {},
     "output_type": "execute_result"
    }
   ],
   "source": [
    "text1[\"Sherlock Holmes Novels\"].str.lower()"
   ]
  },
  {
   "cell_type": "markdown",
   "id": "63f7e763-6c83-4bd3-a5d8-134305c5d48b",
   "metadata": {},
   "source": [
    "* In order for this change to be recorded, an assignment process must be performed."
   ]
  },
  {
   "cell_type": "code",
   "execution_count": 37,
   "id": "5386f004-b595-4741-85b8-0db6389f9e53",
   "metadata": {},
   "outputs": [
    {
     "data": {
      "text/plain": [
       "1                  a scandal in bohemia! 01\n",
       "2                   the red-headed league,2\n",
       "3                    a case, of identity 33\n",
       "4              the boscombe valley mystery4\n",
       "5                     the five orange pips1\n",
       "6             the man with? the twisted lip\n",
       "7       the adventure of the blue carbuncle\n",
       "8        the adventure of the speckled band\n",
       "9     the adventure of the engineer's thumb\n",
       "10      the adventure of the noble bachelor\n",
       "11       the adventure of the beryl coronet\n",
       "12      the adventure of the copper beeches\n",
       "Name: Sherlock Holmes Novels, dtype: object"
      ]
     },
     "execution_count": 37,
     "metadata": {},
     "output_type": "execute_result"
    }
   ],
   "source": [
    "text1 =  text1[\"Sherlock Holmes Novels\"].apply(lambda x:\" \".join(x.lower() for x in x.split()))\n",
    "text1"
   ]
  },
  {
   "cell_type": "markdown",
   "id": "6c814d46-2fc1-4e1d-9dc1-4535e3240ddd",
   "metadata": {
    "jp-MarkdownHeadingCollapsed": true
   },
   "source": [
    "### Deleting Punctuation Marks"
   ]
  },
  {
   "cell_type": "code",
   "execution_count": 40,
   "id": "e91975e6-91e8-47e6-ba17-d2e7c10c048d",
   "metadata": {},
   "outputs": [
    {
     "data": {
      "text/plain": [
       "1                  a scandal in bohemia! 01\n",
       "2                   the red-headed league,2\n",
       "3                    a case, of identity 33\n",
       "4              the boscombe valley mystery4\n",
       "5                     the five orange pips1\n",
       "6             the man with? the twisted lip\n",
       "7       the adventure of the blue carbuncle\n",
       "8        the adventure of the speckled band\n",
       "9     the adventure of the engineer's thumb\n",
       "10      the adventure of the noble bachelor\n",
       "11       the adventure of the beryl coronet\n",
       "12      the adventure of the copper beeches\n",
       "Name: Sherlock Holmes Novels, dtype: object"
      ]
     },
     "execution_count": 40,
     "metadata": {},
     "output_type": "execute_result"
    }
   ],
   "source": [
    "text2 = text1\n",
    "text2"
   ]
  },
  {
   "cell_type": "code",
   "execution_count": 42,
   "id": "4057cfbf-0fb9-4798-9b7b-47987d93c372",
   "metadata": {},
   "outputs": [
    {
     "data": {
      "text/plain": [
       "1                  a scandal in bohemia 01\n",
       "2                    the redheaded league2\n",
       "3                    a case of identity 33\n",
       "4             the boscombe valley mystery4\n",
       "5                    the five orange pips1\n",
       "6             the man with the twisted lip\n",
       "7      the adventure of the blue carbuncle\n",
       "8       the adventure of the speckled band\n",
       "9     the adventure of the engineers thumb\n",
       "10     the adventure of the noble bachelor\n",
       "11      the adventure of the beryl coronet\n",
       "12     the adventure of the copper beeches\n",
       "Name: Sherlock Holmes Novels, dtype: object"
      ]
     },
     "execution_count": 42,
     "metadata": {},
     "output_type": "execute_result"
    }
   ],
   "source": [
    "text2.str.replace(r\"[^\\w\\s]\", \"\", regex=True)"
   ]
  },
  {
   "cell_type": "markdown",
   "id": "7f8987b9-171d-4413-811a-677fb511954c",
   "metadata": {},
   "source": [
    "* What Does It Do?\n",
    "    * This code removes special characters and punctuation from each string in the Pandas Series (text2), keeping only letters, numbers, and spaces.\n",
    "\n",
    "* Code Explanation:\n",
    "    * text2.str.replace(...) → Applies the replacement function to each string in the Pandas Series.\n",
    "    * r\"[^\\w\\s]\" → Regular expression (regex):\n",
    "    * \\w → Matches letters, numbers, and underscores (_).\n",
    "    * \\s → Matches whitespace characters (spaces, tabs, etc.).\n",
    "    * ^ → Negates the set, meaning it targets everything except letters, numbers, and spaces (i.e., punctuation and special characters).\n",
    "    * \"\" → Replaces matched characters with an empty string (removes them).\n",
    "regex=True → Ensures that replace() interprets the pattern as a regex."
   ]
  },
  {
   "cell_type": "markdown",
   "id": "afb01394-4527-4358-a6e2-be42e00db45b",
   "metadata": {},
   "source": [
    "* In order for this change to be recorded, an assignment process must be performed."
   ]
  },
  {
   "cell_type": "code",
   "execution_count": 46,
   "id": "69587829-3290-49ea-9f55-7e51fa93ff35",
   "metadata": {},
   "outputs": [
    {
     "data": {
      "text/plain": [
       "1                  a scandal in bohemia 01\n",
       "2                    the redheaded league2\n",
       "3                    a case of identity 33\n",
       "4             the boscombe valley mystery4\n",
       "5                    the five orange pips1\n",
       "6             the man with the twisted lip\n",
       "7      the adventure of the blue carbuncle\n",
       "8       the adventure of the speckled band\n",
       "9     the adventure of the engineers thumb\n",
       "10     the adventure of the noble bachelor\n",
       "11      the adventure of the beryl coronet\n",
       "12     the adventure of the copper beeches\n",
       "Name: Sherlock Holmes Novels, dtype: object"
      ]
     },
     "execution_count": 46,
     "metadata": {},
     "output_type": "execute_result"
    }
   ],
   "source": [
    "text2 = text2.str.replace(r\"[^\\w\\s]\", \"\", regex=True)\n",
    "text2"
   ]
  },
  {
   "cell_type": "markdown",
   "id": "f3bda021-e4fc-43f1-aaac-b6a0d71c4796",
   "metadata": {
    "jp-MarkdownHeadingCollapsed": true
   },
   "source": [
    "### Deleting Numbers"
   ]
  },
  {
   "cell_type": "code",
   "execution_count": 49,
   "id": "61c2c114-e260-49bc-923a-7a2061374180",
   "metadata": {},
   "outputs": [
    {
     "data": {
      "text/plain": [
       "1                  a scandal in bohemia 01\n",
       "2                    the redheaded league2\n",
       "3                    a case of identity 33\n",
       "4             the boscombe valley mystery4\n",
       "5                    the five orange pips1\n",
       "6             the man with the twisted lip\n",
       "7      the adventure of the blue carbuncle\n",
       "8       the adventure of the speckled band\n",
       "9     the adventure of the engineers thumb\n",
       "10     the adventure of the noble bachelor\n",
       "11      the adventure of the beryl coronet\n",
       "12     the adventure of the copper beeches\n",
       "Name: Sherlock Holmes Novels, dtype: object"
      ]
     },
     "execution_count": 49,
     "metadata": {},
     "output_type": "execute_result"
    }
   ],
   "source": [
    "text3 = text2\n",
    "text3"
   ]
  },
  {
   "cell_type": "code",
   "execution_count": 51,
   "id": "1eccb930-c359-40b2-a12c-21d49ed2cf0e",
   "metadata": {},
   "outputs": [
    {
     "data": {
      "text/plain": [
       "1                    a scandal in bohemia \n",
       "2                     the redheaded league\n",
       "3                      a case of identity \n",
       "4              the boscombe valley mystery\n",
       "5                     the five orange pips\n",
       "6             the man with the twisted lip\n",
       "7      the adventure of the blue carbuncle\n",
       "8       the adventure of the speckled band\n",
       "9     the adventure of the engineers thumb\n",
       "10     the adventure of the noble bachelor\n",
       "11      the adventure of the beryl coronet\n",
       "12     the adventure of the copper beeches\n",
       "Name: Sherlock Holmes Novels, dtype: object"
      ]
     },
     "execution_count": 51,
     "metadata": {},
     "output_type": "execute_result"
    }
   ],
   "source": [
    "text3.str.replace(\"\\\\d\", \"\", regex=True)"
   ]
  },
  {
   "cell_type": "markdown",
   "id": "cc589664-6ef5-489e-83a4-755f2687a826",
   "metadata": {},
   "source": [
    "* What Does It Do?\n",
    "    * This code removes all digits (0-9) from each string in the Pandas Series (text3).\n",
    "\n",
    "* Explanation:\n",
    "    * text3.str.replace(...) → Applies the replacement function to each string in the Pandas Series.\n",
    "    * \"\\\\d\" → Regular expression (regex) pattern that matches any digit (0-9).\n",
    "    * \"\" → Replaces matched digits with an empty string (removes them).\n",
    "    * regex=True → Ensures replace() interprets the pattern as a regex instead of a plain string.\n",
    "* Note:\n",
    "    * Since \\d is a special regex sequence, we need to escape the backslash in a normal string (\"\\\\d\"), or better yet, use a raw string (r\"\\d\") to make the code cleaner."
   ]
  },
  {
   "cell_type": "code",
   "execution_count": 54,
   "id": "b368bf78-928a-4fef-8766-0f06130cf4a3",
   "metadata": {},
   "outputs": [
    {
     "data": {
      "text/plain": [
       "1                    a scandal in bohemia \n",
       "2                     the redheaded league\n",
       "3                      a case of identity \n",
       "4              the boscombe valley mystery\n",
       "5                     the five orange pips\n",
       "6             the man with the twisted lip\n",
       "7      the adventure of the blue carbuncle\n",
       "8       the adventure of the speckled band\n",
       "9     the adventure of the engineers thumb\n",
       "10     the adventure of the noble bachelor\n",
       "11      the adventure of the beryl coronet\n",
       "12     the adventure of the copper beeches\n",
       "Name: Sherlock Holmes Novels, dtype: object"
      ]
     },
     "execution_count": 54,
     "metadata": {},
     "output_type": "execute_result"
    }
   ],
   "source": [
    "text3 = text3.str.replace(\"\\\\d\", \"\", regex=True)\n",
    "text3"
   ]
  },
  {
   "cell_type": "markdown",
   "id": "8326021c-8818-44c1-9461-0e1e0a80c737",
   "metadata": {
    "jp-MarkdownHeadingCollapsed": true
   },
   "source": [
    "### Stopwords"
   ]
  },
  {
   "cell_type": "markdown",
   "id": "f3ccdf91-2e1a-4234-9b69-95125596bf80",
   "metadata": {},
   "source": [
    "* In Natural Language Processing (NLP), stop words are common words that are usually filtered out during text processing because they carry little meaningful information. These words frequently appear in language but do not contribute significantly to the meaning of a sentence.\n",
    "\n",
    "* Examples of Stop Words:\n",
    "    * English Stop Words: a, an, the, is, in, at, of, on, for, with, and, but, or, not, etc.\n",
    "    * Turkish Stop Words: ve, ya, için, bir, bu, o, ile, gibi, da, de, çok, ama, mı, ne, vs.\n",
    " \n",
    "* Why Are Stop Words Removed?\n",
    "\n",
    "    * Reduce Dimensionality: Eliminating common words helps reduce the size of the dataset, making models more efficient.\n",
    "    * Improve Model Performance: Many NLP models, such as text classification and sentiment analysis, perform better when stop words are removed.\n",
    "    * Enhance Meaningful Features: Retaining only informative words helps algorithms focus on keywords that contribute to understanding the text.\n",
    "\n",
    "* When Not to Remove Stop Words?\n",
    "\n",
    "    * In tasks like machine translation, text summarization, or question answering, stop words can be important for maintaining context and meaning.\n",
    "    * In word embeddings (Word2Vec, BERT, etc.), stop words may help preserve sentence structure."
   ]
  },
  {
   "cell_type": "code",
   "execution_count": 58,
   "id": "23cd8931-a170-4e41-8d59-1e9b15a1f3bc",
   "metadata": {},
   "outputs": [
    {
     "data": {
      "text/plain": [
       "1                    a scandal in bohemia \n",
       "2                     the redheaded league\n",
       "3                      a case of identity \n",
       "4              the boscombe valley mystery\n",
       "5                     the five orange pips\n",
       "6             the man with the twisted lip\n",
       "7      the adventure of the blue carbuncle\n",
       "8       the adventure of the speckled band\n",
       "9     the adventure of the engineers thumb\n",
       "10     the adventure of the noble bachelor\n",
       "11      the adventure of the beryl coronet\n",
       "12     the adventure of the copper beeches\n",
       "Name: Sherlock Holmes Novels, dtype: object"
      ]
     },
     "execution_count": 58,
     "metadata": {},
     "output_type": "execute_result"
    }
   ],
   "source": [
    "text4 = text3\n",
    "text4"
   ]
  },
  {
   "cell_type": "code",
   "execution_count": 60,
   "id": "5a6fae8d-d32c-493d-9806-175bff409029",
   "metadata": {},
   "outputs": [
    {
     "name": "stdout",
     "output_type": "stream",
     "text": [
      "Requirement already satisfied: nltk in c:\\users\\ali\\anaconda3\\lib\\site-packages (3.9.1)\n",
      "Requirement already satisfied: click in c:\\users\\ali\\anaconda3\\lib\\site-packages (from nltk) (8.1.7)\n",
      "Requirement already satisfied: joblib in c:\\users\\ali\\anaconda3\\lib\\site-packages (from nltk) (1.4.2)\n",
      "Requirement already satisfied: regex>=2021.8.3 in c:\\users\\ali\\anaconda3\\lib\\site-packages (from nltk) (2024.9.11)\n",
      "Requirement already satisfied: tqdm in c:\\users\\ali\\anaconda3\\lib\\site-packages (from nltk) (4.66.5)\n",
      "Requirement already satisfied: colorama in c:\\users\\ali\\anaconda3\\lib\\site-packages (from click->nltk) (0.4.6)\n"
     ]
    }
   ],
   "source": [
    "!pip install nltk"
   ]
  },
  {
   "cell_type": "code",
   "execution_count": 61,
   "id": "fa9d4cb3-3c9a-4ca1-845a-1d286bc5ca2d",
   "metadata": {},
   "outputs": [
    {
     "name": "stderr",
     "output_type": "stream",
     "text": [
      "[nltk_data] Downloading package stopwords to\n",
      "[nltk_data]     C:\\Users\\ali\\AppData\\Roaming\\nltk_data...\n",
      "[nltk_data]   Package stopwords is already up-to-date!\n"
     ]
    },
    {
     "data": {
      "text/plain": [
       "True"
      ]
     },
     "execution_count": 61,
     "metadata": {},
     "output_type": "execute_result"
    }
   ],
   "source": [
    "import nltk\n",
    "nltk.download(\"stopwords\")"
   ]
  },
  {
   "cell_type": "code",
   "execution_count": 62,
   "id": "316ef631-3212-4679-b143-1fc8770e8bc0",
   "metadata": {
    "scrolled": true
   },
   "outputs": [
    {
     "data": {
      "text/plain": [
       "['a',\n",
       " 'about',\n",
       " 'above',\n",
       " 'after',\n",
       " 'again',\n",
       " 'against',\n",
       " 'ain',\n",
       " 'all',\n",
       " 'am',\n",
       " 'an',\n",
       " 'and',\n",
       " 'any',\n",
       " 'are',\n",
       " 'aren',\n",
       " \"aren't\",\n",
       " 'as',\n",
       " 'at',\n",
       " 'be',\n",
       " 'because',\n",
       " 'been',\n",
       " 'before',\n",
       " 'being',\n",
       " 'below',\n",
       " 'between',\n",
       " 'both',\n",
       " 'but',\n",
       " 'by',\n",
       " 'can',\n",
       " 'couldn',\n",
       " \"couldn't\",\n",
       " 'd',\n",
       " 'did',\n",
       " 'didn',\n",
       " \"didn't\",\n",
       " 'do',\n",
       " 'does',\n",
       " 'doesn',\n",
       " \"doesn't\",\n",
       " 'doing',\n",
       " 'don',\n",
       " \"don't\",\n",
       " 'down',\n",
       " 'during',\n",
       " 'each',\n",
       " 'few',\n",
       " 'for',\n",
       " 'from',\n",
       " 'further',\n",
       " 'had',\n",
       " 'hadn',\n",
       " \"hadn't\",\n",
       " 'has',\n",
       " 'hasn',\n",
       " \"hasn't\",\n",
       " 'have',\n",
       " 'haven',\n",
       " \"haven't\",\n",
       " 'having',\n",
       " 'he',\n",
       " \"he'd\",\n",
       " \"he'll\",\n",
       " 'her',\n",
       " 'here',\n",
       " 'hers',\n",
       " 'herself',\n",
       " \"he's\",\n",
       " 'him',\n",
       " 'himself',\n",
       " 'his',\n",
       " 'how',\n",
       " 'i',\n",
       " \"i'd\",\n",
       " 'if',\n",
       " \"i'll\",\n",
       " \"i'm\",\n",
       " 'in',\n",
       " 'into',\n",
       " 'is',\n",
       " 'isn',\n",
       " \"isn't\",\n",
       " 'it',\n",
       " \"it'd\",\n",
       " \"it'll\",\n",
       " \"it's\",\n",
       " 'its',\n",
       " 'itself',\n",
       " \"i've\",\n",
       " 'just',\n",
       " 'll',\n",
       " 'm',\n",
       " 'ma',\n",
       " 'me',\n",
       " 'mightn',\n",
       " \"mightn't\",\n",
       " 'more',\n",
       " 'most',\n",
       " 'mustn',\n",
       " \"mustn't\",\n",
       " 'my',\n",
       " 'myself',\n",
       " 'needn',\n",
       " \"needn't\",\n",
       " 'no',\n",
       " 'nor',\n",
       " 'not',\n",
       " 'now',\n",
       " 'o',\n",
       " 'of',\n",
       " 'off',\n",
       " 'on',\n",
       " 'once',\n",
       " 'only',\n",
       " 'or',\n",
       " 'other',\n",
       " 'our',\n",
       " 'ours',\n",
       " 'ourselves',\n",
       " 'out',\n",
       " 'over',\n",
       " 'own',\n",
       " 're',\n",
       " 's',\n",
       " 'same',\n",
       " 'shan',\n",
       " \"shan't\",\n",
       " 'she',\n",
       " \"she'd\",\n",
       " \"she'll\",\n",
       " \"she's\",\n",
       " 'should',\n",
       " 'shouldn',\n",
       " \"shouldn't\",\n",
       " \"should've\",\n",
       " 'so',\n",
       " 'some',\n",
       " 'such',\n",
       " 't',\n",
       " 'than',\n",
       " 'that',\n",
       " \"that'll\",\n",
       " 'the',\n",
       " 'their',\n",
       " 'theirs',\n",
       " 'them',\n",
       " 'themselves',\n",
       " 'then',\n",
       " 'there',\n",
       " 'these',\n",
       " 'they',\n",
       " \"they'd\",\n",
       " \"they'll\",\n",
       " \"they're\",\n",
       " \"they've\",\n",
       " 'this',\n",
       " 'those',\n",
       " 'through',\n",
       " 'to',\n",
       " 'too',\n",
       " 'under',\n",
       " 'until',\n",
       " 'up',\n",
       " 've',\n",
       " 'very',\n",
       " 'was',\n",
       " 'wasn',\n",
       " \"wasn't\",\n",
       " 'we',\n",
       " \"we'd\",\n",
       " \"we'll\",\n",
       " \"we're\",\n",
       " 'were',\n",
       " 'weren',\n",
       " \"weren't\",\n",
       " \"we've\",\n",
       " 'what',\n",
       " 'when',\n",
       " 'where',\n",
       " 'which',\n",
       " 'while',\n",
       " 'who',\n",
       " 'whom',\n",
       " 'why',\n",
       " 'will',\n",
       " 'with',\n",
       " 'won',\n",
       " \"won't\",\n",
       " 'wouldn',\n",
       " \"wouldn't\",\n",
       " 'y',\n",
       " 'you',\n",
       " \"you'd\",\n",
       " \"you'll\",\n",
       " 'your',\n",
       " \"you're\",\n",
       " 'yours',\n",
       " 'yourself',\n",
       " 'yourselves',\n",
       " \"you've\"]"
      ]
     },
     "execution_count": 62,
     "metadata": {},
     "output_type": "execute_result"
    }
   ],
   "source": [
    "from nltk.corpus import stopwords\n",
    "sw = stopwords.words(\"english\") # We have taken the stopwords for the English language.\n",
    "sw"
   ]
  },
  {
   "cell_type": "code",
   "execution_count": 66,
   "id": "c12b8b04-c773-466f-9bff-4263e5a80717",
   "metadata": {},
   "outputs": [
    {
     "data": {
      "text/plain": [
       "1               scandal bohemia\n",
       "2              redheaded league\n",
       "3                 case identity\n",
       "4       boscombe valley mystery\n",
       "5              five orange pips\n",
       "6               man twisted lip\n",
       "7      adventure blue carbuncle\n",
       "8       adventure speckled band\n",
       "9     adventure engineers thumb\n",
       "10     adventure noble bachelor\n",
       "11      adventure beryl coronet\n",
       "12     adventure copper beeches\n",
       "Name: Sherlock Holmes Novels, dtype: object"
      ]
     },
     "execution_count": 66,
     "metadata": {},
     "output_type": "execute_result"
    }
   ],
   "source": [
    "text4.apply(lambda x: \" \".join(x for x in x.split() if x not in sw))"
   ]
  },
  {
   "cell_type": "code",
   "execution_count": 68,
   "id": "f9dd484f-0584-4255-ad51-a9a014c3c2dc",
   "metadata": {},
   "outputs": [
    {
     "data": {
      "text/plain": [
       "1               scandal bohemia\n",
       "2              redheaded league\n",
       "3                 case identity\n",
       "4       boscombe valley mystery\n",
       "5              five orange pips\n",
       "6               man twisted lip\n",
       "7      adventure blue carbuncle\n",
       "8       adventure speckled band\n",
       "9     adventure engineers thumb\n",
       "10     adventure noble bachelor\n",
       "11      adventure beryl coronet\n",
       "12     adventure copper beeches\n",
       "Name: Sherlock Holmes Novels, dtype: object"
      ]
     },
     "execution_count": 68,
     "metadata": {},
     "output_type": "execute_result"
    }
   ],
   "source": [
    "text4 = text4.apply(lambda x: \" \".join(x for x in x.split() if x not in sw))\n",
    "text4"
   ]
  },
  {
   "cell_type": "markdown",
   "id": "8947399f-962a-4ad3-8d59-e41dd386bfb2",
   "metadata": {
    "jp-MarkdownHeadingCollapsed": true
   },
   "source": [
    "### Removal of Rare Words"
   ]
  },
  {
   "cell_type": "code",
   "execution_count": 71,
   "id": "495ef438-9071-4b18-b37a-42c98c0d89d8",
   "metadata": {},
   "outputs": [
    {
     "data": {
      "text/plain": [
       "1               scandal bohemia\n",
       "2              redheaded league\n",
       "3                 case identity\n",
       "4       boscombe valley mystery\n",
       "5              five orange pips\n",
       "6               man twisted lip\n",
       "7      adventure blue carbuncle\n",
       "8       adventure speckled band\n",
       "9     adventure engineers thumb\n",
       "10     adventure noble bachelor\n",
       "11      adventure beryl coronet\n",
       "12     adventure copper beeches\n",
       "Name: Sherlock Holmes Novels, dtype: object"
      ]
     },
     "execution_count": 71,
     "metadata": {},
     "output_type": "execute_result"
    }
   ],
   "source": [
    "text5 = text4\n",
    "text5"
   ]
  },
  {
   "cell_type": "code",
   "execution_count": 73,
   "id": "4641194f-6770-4992-a23d-697cf527c216",
   "metadata": {},
   "outputs": [
    {
     "data": {
      "text/plain": [
       "adventure    6\n",
       "scandal      1\n",
       "bohemia      1\n",
       "copper       1\n",
       "coronet      1\n",
       "beryl        1\n",
       "bachelor     1\n",
       "noble        1\n",
       "thumb        1\n",
       "engineers    1\n",
       "band         1\n",
       "speckled     1\n",
       "carbuncle    1\n",
       "blue         1\n",
       "lip          1\n",
       "twisted      1\n",
       "man          1\n",
       "pips         1\n",
       "orange       1\n",
       "five         1\n",
       "mystery      1\n",
       "valley       1\n",
       "boscombe     1\n",
       "identity     1\n",
       "case         1\n",
       "league       1\n",
       "redheaded    1\n",
       "beeches      1\n",
       "Name: count, dtype: int64"
      ]
     },
     "execution_count": 73,
     "metadata": {},
     "output_type": "execute_result"
    }
   ],
   "source": [
    "# We can count how many times each word appears in the dataset.\n",
    "pd.Series(\" \".join(text5).split()).value_counts() "
   ]
  },
  {
   "cell_type": "code",
   "execution_count": 81,
   "id": "8914c8ce-833e-4265-80cb-57030f18b30f",
   "metadata": {},
   "outputs": [
    {
     "data": {
      "text/plain": [
       "league       1\n",
       "redheaded    1\n",
       "beeches      1\n",
       "Name: count, dtype: int64"
      ]
     },
     "execution_count": 81,
     "metadata": {},
     "output_type": "execute_result"
    }
   ],
   "source": [
    "# Let's say we want to remove the last 3 values.\n",
    "delete = pd.Series(\" \".join(text5).split()).value_counts()[-3:]\n",
    "delete"
   ]
  },
  {
   "cell_type": "code",
   "execution_count": 85,
   "id": "3c2d13b1-cff9-4ab4-8c4d-09b5de9eed2c",
   "metadata": {},
   "outputs": [
    {
     "data": {
      "text/plain": [
       "1               scandal bohemia\n",
       "2                              \n",
       "3                 case identity\n",
       "4       boscombe valley mystery\n",
       "5              five orange pips\n",
       "6               man twisted lip\n",
       "7      adventure blue carbuncle\n",
       "8       adventure speckled band\n",
       "9     adventure engineers thumb\n",
       "10     adventure noble bachelor\n",
       "11      adventure beryl coronet\n",
       "12             adventure copper\n",
       "Name: Sherlock Holmes Novels, dtype: object"
      ]
     },
     "execution_count": 85,
     "metadata": {},
     "output_type": "execute_result"
    }
   ],
   "source": [
    "text5.apply(lambda x: \" \".join(i for i in x.split() if i not in delete))"
   ]
  },
  {
   "cell_type": "markdown",
   "id": "2a31ee0c-71c1-429e-9f2e-ec7e15ad4258",
   "metadata": {},
   "source": [
    "* This operation is not meaningful for our dataset, so we are not saving it. But if needed, this is how it is done."
   ]
  },
  {
   "cell_type": "markdown",
   "id": "87920ac1-c0de-4456-9674-bf80fc2c55c2",
   "metadata": {
    "jp-MarkdownHeadingCollapsed": true
   },
   "source": [
    "### Tokenization\n",
    "* Tokenization is the process of breaking down a text into smaller units called tokens. These tokens can be words, phrases, sentences, or subwords, depending on the level of tokenization."
   ]
  },
  {
   "cell_type": "code",
   "execution_count": 89,
   "id": "3b6ab3ad-d1be-45e8-adc8-abea12632bac",
   "metadata": {},
   "outputs": [
    {
     "name": "stderr",
     "output_type": "stream",
     "text": [
      "[nltk_data] Downloading package punkt_tab to\n",
      "[nltk_data]     C:\\Users\\ali\\AppData\\Roaming\\nltk_data...\n",
      "[nltk_data]   Package punkt_tab is already up-to-date!\n"
     ]
    },
    {
     "data": {
      "text/plain": [
       "True"
      ]
     },
     "execution_count": 89,
     "metadata": {},
     "output_type": "execute_result"
    }
   ],
   "source": [
    "nltk.download(\"punkt_tab\")"
   ]
  },
  {
   "cell_type": "code",
   "execution_count": 91,
   "id": "bc90818c-1a6d-4274-82d8-d638869af6fa",
   "metadata": {},
   "outputs": [
    {
     "name": "stdout",
     "output_type": "stream",
     "text": [
      "Requirement already satisfied: textblob in c:\\users\\ali\\anaconda3\\lib\\site-packages (0.19.0)\n",
      "Requirement already satisfied: nltk>=3.9 in c:\\users\\ali\\anaconda3\\lib\\site-packages (from textblob) (3.9.1)\n",
      "Requirement already satisfied: click in c:\\users\\ali\\anaconda3\\lib\\site-packages (from nltk>=3.9->textblob) (8.1.7)\n",
      "Requirement already satisfied: joblib in c:\\users\\ali\\anaconda3\\lib\\site-packages (from nltk>=3.9->textblob) (1.4.2)\n",
      "Requirement already satisfied: regex>=2021.8.3 in c:\\users\\ali\\anaconda3\\lib\\site-packages (from nltk>=3.9->textblob) (2024.9.11)\n",
      "Requirement already satisfied: tqdm in c:\\users\\ali\\anaconda3\\lib\\site-packages (from nltk>=3.9->textblob) (4.66.5)\n",
      "Requirement already satisfied: colorama in c:\\users\\ali\\anaconda3\\lib\\site-packages (from click->nltk>=3.9->textblob) (0.4.6)\n"
     ]
    }
   ],
   "source": [
    "!pip install textblob"
   ]
  },
  {
   "cell_type": "code",
   "execution_count": 93,
   "id": "da427f82-e1d8-48db-8eba-6d5306d28a39",
   "metadata": {},
   "outputs": [
    {
     "data": {
      "text/plain": [
       "WordList(['scandal', 'bohemia'])"
      ]
     },
     "execution_count": 93,
     "metadata": {},
     "output_type": "execute_result"
    }
   ],
   "source": [
    "import textblob\n",
    "from textblob import TextBlob\n",
    "\n",
    "TextBlob(text5[1]).words"
   ]
  },
  {
   "cell_type": "code",
   "execution_count": 95,
   "id": "3b893d6d-7687-4e73-95e5-c227898f0692",
   "metadata": {},
   "outputs": [
    {
     "data": {
      "text/plain": [
       "1                [scandal, bohemia]\n",
       "2               [redheaded, league]\n",
       "3                  [case, identity]\n",
       "4       [boscombe, valley, mystery]\n",
       "5              [five, orange, pips]\n",
       "6               [man, twisted, lip]\n",
       "7      [adventure, blue, carbuncle]\n",
       "8       [adventure, speckled, band]\n",
       "9     [adventure, engineers, thumb]\n",
       "10     [adventure, noble, bachelor]\n",
       "11      [adventure, beryl, coronet]\n",
       "12     [adventure, copper, beeches]\n",
       "Name: Sherlock Holmes Novels, dtype: object"
      ]
     },
     "execution_count": 95,
     "metadata": {},
     "output_type": "execute_result"
    }
   ],
   "source": [
    "text5.apply(lambda x: TextBlob(x).words)"
   ]
  },
  {
   "cell_type": "markdown",
   "id": "229f4d43-4e28-4709-b950-d3778f2c1fb9",
   "metadata": {
    "jp-MarkdownHeadingCollapsed": true
   },
   "source": [
    "### Stemming\n",
    "* Stemming is the process of reducing a word to its root or base form by removing suffixes. The goal is to group words with similar meanings together by stripping away prefixes or suffixes. However, stemming does not always produce a real word."
   ]
  },
  {
   "cell_type": "code",
   "execution_count": 98,
   "id": "4ff59fbb-9bc8-40b0-b84b-21151d8cf2f4",
   "metadata": {},
   "outputs": [],
   "source": [
    "from nltk.stem import PorterStemmer\n",
    "st = PorterStemmer()"
   ]
  },
  {
   "cell_type": "code",
   "execution_count": 100,
   "id": "6af4a4b0-30fb-411e-8561-96c66ff26f6e",
   "metadata": {},
   "outputs": [
    {
     "data": {
      "text/plain": [
       "1            scandal bohemia\n",
       "2              redhead leagu\n",
       "3                 case ident\n",
       "4     boscomb valley mysteri\n",
       "5             five orang pip\n",
       "6              man twist lip\n",
       "7     adventur blue carbuncl\n",
       "8       adventur speckl band\n",
       "9       adventur engin thumb\n",
       "10    adventur nobl bachelor\n",
       "11    adventur beryl coronet\n",
       "12     adventur copper beech\n",
       "Name: Sherlock Holmes Novels, dtype: object"
      ]
     },
     "execution_count": 100,
     "metadata": {},
     "output_type": "execute_result"
    }
   ],
   "source": [
    "text5.apply(lambda x: \" \".join([st.stem(word) for word in x.split()]))"
   ]
  },
  {
   "cell_type": "markdown",
   "id": "93dc7a6c-afbb-4390-9403-0c32b6f07c20",
   "metadata": {
    "jp-MarkdownHeadingCollapsed": true
   },
   "source": [
    "### Lemmatization\n",
    "* Lemmatization is the process of reducing a word to its base or dictionary form (lemma) while ensuring that the transformed word remains a valid word. Unlike stemming, lemmatization considers the context and meaning of a word."
   ]
  },
  {
   "cell_type": "code",
   "execution_count": 103,
   "id": "6dc2d792-98cb-4ed9-9424-1df538c51598",
   "metadata": {},
   "outputs": [
    {
     "name": "stderr",
     "output_type": "stream",
     "text": [
      "[nltk_data] Downloading package wordnet to\n",
      "[nltk_data]     C:\\Users\\ali\\AppData\\Roaming\\nltk_data...\n",
      "[nltk_data]   Package wordnet is already up-to-date!\n"
     ]
    },
    {
     "data": {
      "text/plain": [
       "True"
      ]
     },
     "execution_count": 103,
     "metadata": {},
     "output_type": "execute_result"
    }
   ],
   "source": [
    "from textblob import Word\n",
    "nltk.download(\"wordnet\")"
   ]
  },
  {
   "cell_type": "code",
   "execution_count": 105,
   "id": "639de53b-39b6-4e0a-baff-81c720020555",
   "metadata": {},
   "outputs": [
    {
     "data": {
      "text/plain": [
       "1              scandal bohemia\n",
       "2             redheaded league\n",
       "3                case identity\n",
       "4      boscombe valley mystery\n",
       "5              five orange pip\n",
       "6              man twisted lip\n",
       "7     adventure blue carbuncle\n",
       "8      adventure speckled band\n",
       "9     adventure engineer thumb\n",
       "10    adventure noble bachelor\n",
       "11     adventure beryl coronet\n",
       "12      adventure copper beech\n",
       "Name: Sherlock Holmes Novels, dtype: object"
      ]
     },
     "execution_count": 105,
     "metadata": {},
     "output_type": "execute_result"
    }
   ],
   "source": [
    "text5.apply(lambda x: \" \".join([Word(word).lemmatize() for word in x.split()]))"
   ]
  },
  {
   "cell_type": "code",
   "execution_count": 106,
   "id": "2fa380d8-f816-4509-9e4a-9ac89df0c551",
   "metadata": {},
   "outputs": [
    {
     "data": {
      "text/html": [
       "<div>\n",
       "<style scoped>\n",
       "    .dataframe tbody tr th:only-of-type {\n",
       "        vertical-align: middle;\n",
       "    }\n",
       "\n",
       "    .dataframe tbody tr th {\n",
       "        vertical-align: top;\n",
       "    }\n",
       "\n",
       "    .dataframe thead th {\n",
       "        text-align: right;\n",
       "    }\n",
       "</style>\n",
       "<table border=\"1\" class=\"dataframe\">\n",
       "  <thead>\n",
       "    <tr style=\"text-align: right;\">\n",
       "      <th></th>\n",
       "      <th>Sherlock Holmes Novels</th>\n",
       "    </tr>\n",
       "  </thead>\n",
       "  <tbody>\n",
       "    <tr>\n",
       "      <th>1</th>\n",
       "      <td>A Scandal in Bohemia! 01</td>\n",
       "    </tr>\n",
       "    <tr>\n",
       "      <th>2</th>\n",
       "      <td>The Red-headed League,2</td>\n",
       "    </tr>\n",
       "    <tr>\n",
       "      <th>3</th>\n",
       "      <td>A Case, of Identity 33</td>\n",
       "    </tr>\n",
       "    <tr>\n",
       "      <th>4</th>\n",
       "      <td>The Boscombe Valley Mystery4</td>\n",
       "    </tr>\n",
       "    <tr>\n",
       "      <th>5</th>\n",
       "      <td>The Five Orange Pips1</td>\n",
       "    </tr>\n",
       "    <tr>\n",
       "      <th>6</th>\n",
       "      <td>The Man with? the Twisted Lip</td>\n",
       "    </tr>\n",
       "    <tr>\n",
       "      <th>7</th>\n",
       "      <td>The Adventure of the Blue Carbuncle</td>\n",
       "    </tr>\n",
       "    <tr>\n",
       "      <th>8</th>\n",
       "      <td>The Adventure of the Speckled Band</td>\n",
       "    </tr>\n",
       "    <tr>\n",
       "      <th>9</th>\n",
       "      <td>The Adventure of the Engineer's Thumb</td>\n",
       "    </tr>\n",
       "    <tr>\n",
       "      <th>10</th>\n",
       "      <td>The Adventure of the Noble Bachelor</td>\n",
       "    </tr>\n",
       "    <tr>\n",
       "      <th>11</th>\n",
       "      <td>The Adventure of the Beryl Coronet</td>\n",
       "    </tr>\n",
       "    <tr>\n",
       "      <th>12</th>\n",
       "      <td>The Adventure of the Copper Beeches</td>\n",
       "    </tr>\n",
       "  </tbody>\n",
       "</table>\n",
       "</div>"
      ],
      "text/plain": [
       "                   Sherlock Holmes Novels\n",
       "1                A Scandal in Bohemia! 01\n",
       "2                 The Red-headed League,2\n",
       "3                  A Case, of Identity 33\n",
       "4            The Boscombe Valley Mystery4\n",
       "5                   The Five Orange Pips1\n",
       "6           The Man with? the Twisted Lip\n",
       "7     The Adventure of the Blue Carbuncle\n",
       "8      The Adventure of the Speckled Band\n",
       "9   The Adventure of the Engineer's Thumb\n",
       "10    The Adventure of the Noble Bachelor\n",
       "11     The Adventure of the Beryl Coronet\n",
       "12    The Adventure of the Copper Beeches"
      ]
     },
     "execution_count": 106,
     "metadata": {},
     "output_type": "execute_result"
    }
   ],
   "source": [
    "text_pdDataFrame"
   ]
  },
  {
   "cell_type": "markdown",
   "id": "4b8096d5-148a-423e-9b37-9bacf14ff34e",
   "metadata": {},
   "source": [
    "## Simple NLP applications"
   ]
  },
  {
   "cell_type": "markdown",
   "id": "5d6d35b6-9e41-4bd4-9d2f-a934ab6c239f",
   "metadata": {
    "jp-MarkdownHeadingCollapsed": true
   },
   "source": [
    "### N-Gram"
   ]
  },
  {
   "cell_type": "markdown",
   "id": "cf7b3f17-b653-4dd2-918b-c69323a983cd",
   "metadata": {},
   "source": [
    "**What is an N-Gram?**\n",
    "* An N-Gram is a sequence of N words (or characters) from a given text. It is a fundamental concept in Natural Language Processing (NLP) and is used for tasks like text analysis, machine learning models, and language modeling.\n",
    "\n",
    "**Types of N-Grams:**\n",
    "\n",
    "    * Unigram (1-Gram): A single word.\n",
    "\n",
    "        Example: \"Natural Language Processing\"\n",
    "        Unigrams: [\"Natural\", \"Language\", \"Processing\"]\n",
    "        \n",
    "    * Bigram (2-Gram): Two consecutive words.\n",
    "\n",
    "        Bigrams: [\"Natural Language\", \"Language Processing\"]\n",
    "        Trigram (3-Gram): Three consecutive words.\n",
    "\n",
    "    * Trigrams: [\"Natural Language Processing\"]\n",
    "        \n",
    "        N-Gram (N > 3): A sequence of N words.\n",
    "        4-Gram: [\"Natural Language Processing is\"]\n",
    "        \n",
    "**Why Are N-Grams Important?**\n",
    "\n",
    "    * Text Prediction: Used in autocomplete and next-word prediction models.\n",
    "    * Speech Recognition: Helps in understanding language structure.\n",
    "    * Plagiarism Detection: Identifies similar phrases in different documents.\n",
    "    * Spam Filtering: Detects spam messages based on common word patterns.\n",
    "    * Sentiment Analysis: Improves context understanding in reviews."
   ]
  },
  {
   "cell_type": "code",
   "execution_count": 112,
   "id": "705cb2ae-9fb7-4658-9949-faece7526ea0",
   "metadata": {},
   "outputs": [
    {
     "data": {
      "text/plain": [
       "'I will demonstrate this example using a longer text for better understanding.\\nN-grams show the combinations of words that are used together.'"
      ]
     },
     "execution_count": 112,
     "metadata": {},
     "output_type": "execute_result"
    }
   ],
   "source": [
    "a = \"\"\"I will demonstrate this example using a longer text for better understanding.\n",
    "N-grams show the combinations of words that are used together.\"\"\"\n",
    "a"
   ]
  },
  {
   "cell_type": "code",
   "execution_count": 114,
   "id": "f929bc7e-59b2-4d25-befe-ab3609529ed8",
   "metadata": {},
   "outputs": [
    {
     "data": {
      "text/plain": [
       "[WordList(['I', 'will', 'demonstrate']),\n",
       " WordList(['will', 'demonstrate', 'this']),\n",
       " WordList(['demonstrate', 'this', 'example']),\n",
       " WordList(['this', 'example', 'using']),\n",
       " WordList(['example', 'using', 'a']),\n",
       " WordList(['using', 'a', 'longer']),\n",
       " WordList(['a', 'longer', 'text']),\n",
       " WordList(['longer', 'text', 'for']),\n",
       " WordList(['text', 'for', 'better']),\n",
       " WordList(['for', 'better', 'understanding']),\n",
       " WordList(['better', 'understanding', 'N-grams']),\n",
       " WordList(['understanding', 'N-grams', 'show']),\n",
       " WordList(['N-grams', 'show', 'the']),\n",
       " WordList(['show', 'the', 'combinations']),\n",
       " WordList(['the', 'combinations', 'of']),\n",
       " WordList(['combinations', 'of', 'words']),\n",
       " WordList(['of', 'words', 'that']),\n",
       " WordList(['words', 'that', 'are']),\n",
       " WordList(['that', 'are', 'used']),\n",
       " WordList(['are', 'used', 'together'])]"
      ]
     },
     "execution_count": 114,
     "metadata": {},
     "output_type": "execute_result"
    }
   ],
   "source": [
    "TextBlob(a).ngrams(3) # It provides the most frequently occurring three-word groups."
   ]
  },
  {
   "cell_type": "markdown",
   "id": "162fa235-82b3-413a-a3d0-14be71813d8d",
   "metadata": {
    "jp-MarkdownHeadingCollapsed": true
   },
   "source": [
    "### Part of Speech Tagging (POS)\n",
    "* Part of Speech (POS) Tagging is the process of assigning a grammatical category (such as noun, verb, adjective, etc.) to each word in a sentence. It helps machines understand the grammatical structure and meaning of a text."
   ]
  },
  {
   "cell_type": "code",
   "execution_count": 117,
   "id": "695c95a5-e34c-4a8d-94fc-fe9ff53813e6",
   "metadata": {},
   "outputs": [
    {
     "name": "stderr",
     "output_type": "stream",
     "text": [
      "[nltk_data] Downloading package averaged_perceptron_tagger_eng to\n",
      "[nltk_data]     C:\\Users\\ali\\AppData\\Roaming\\nltk_data...\n",
      "[nltk_data]   Package averaged_perceptron_tagger_eng is already up-to-\n",
      "[nltk_data]       date!\n"
     ]
    },
    {
     "data": {
      "text/plain": [
       "True"
      ]
     },
     "execution_count": 117,
     "metadata": {},
     "output_type": "execute_result"
    }
   ],
   "source": [
    "nltk.download(\"averaged_perceptron_tagger_eng\")"
   ]
  },
  {
   "cell_type": "code",
   "execution_count": 119,
   "id": "b1b6f280-9966-4d9e-aaed-d12a13cb71d7",
   "metadata": {},
   "outputs": [
    {
     "data": {
      "text/plain": [
       "1               scandal bohemia\n",
       "2              redheaded league\n",
       "3                 case identity\n",
       "4       boscombe valley mystery\n",
       "5              five orange pips\n",
       "6               man twisted lip\n",
       "7      adventure blue carbuncle\n",
       "8       adventure speckled band\n",
       "9     adventure engineers thumb\n",
       "10     adventure noble bachelor\n",
       "11      adventure beryl coronet\n",
       "12     adventure copper beeches\n",
       "Name: Sherlock Holmes Novels, dtype: object"
      ]
     },
     "execution_count": 119,
     "metadata": {},
     "output_type": "execute_result"
    }
   ],
   "source": [
    "text5"
   ]
  },
  {
   "cell_type": "code",
   "execution_count": 122,
   "id": "a217fa82-185b-4fbe-8654-01b5f79f71c0",
   "metadata": {},
   "outputs": [
    {
     "data": {
      "text/plain": [
       "[('redheaded', 'VBN'), ('league', 'NN')]"
      ]
     },
     "execution_count": 122,
     "metadata": {},
     "output_type": "execute_result"
    }
   ],
   "source": [
    "TextBlob(text5[2]).tags"
   ]
  },
  {
   "cell_type": "code",
   "execution_count": 125,
   "id": "fdc329eb-5111-4b80-807f-1271d8964cdc",
   "metadata": {},
   "outputs": [
    {
     "data": {
      "text/plain": [
       "1                        [(scandal, NN), (bohemia, NN)]\n",
       "2                      [(redheaded, VBN), (league, NN)]\n",
       "3                          [(case, NN), (identity, NN)]\n",
       "4         [(boscombe, NN), (valley, NN), (mystery, NN)]\n",
       "5               [(five, CD), (orange, NN), (pips, NNS)]\n",
       "6                [(man, NN), (twisted, VBD), (lip, NN)]\n",
       "7        [(adventure, NN), (blue, JJ), (carbuncle, NN)]\n",
       "8        [(adventure, NN), (speckled, VBD), (band, NN)]\n",
       "9     [(adventure, NN), (engineers, NNS), (thumb, VBP)]\n",
       "10       [(adventure, NN), (noble, JJ), (bachelor, NN)]\n",
       "11        [(adventure, NN), (beryl, NN), (coronet, NN)]\n",
       "12      [(adventure, NN), (copper, NN), (beeches, NNS)]\n",
       "Name: Sherlock Holmes Novels, dtype: object"
      ]
     },
     "execution_count": 125,
     "metadata": {},
     "output_type": "execute_result"
    }
   ],
   "source": [
    "text5.apply(lambda x: TextBlob(x).tags)"
   ]
  },
  {
   "cell_type": "markdown",
   "id": "cc08d2ae-5f53-4e7a-82ff-909f60e7eef9",
   "metadata": {
    "jp-MarkdownHeadingCollapsed": true
   },
   "source": [
    "### Chunking(Shallow Parsing)\n",
    "* Chunking, also known as shallow parsing, is a Natural Language Processing (NLP) technique used to identify and group words in a sentence into meaningful phrases or \"chunks.\" Unlike full parsing, which builds a complete syntactic tree, chunking only focuses on detecting shallow-level structures like noun phrases (NP), verb phrases (VP), or prepositional phrases (PP)."
   ]
  },
  {
   "cell_type": "code",
   "execution_count": 132,
   "id": "7c126c05-a85f-4542-8e14-b4d235003b5e",
   "metadata": {},
   "outputs": [
    {
     "data": {
      "text/plain": [
       "'R and Python are useful data science tools for the new or old data scientists who eager to do efficent data science task'"
      ]
     },
     "execution_count": 132,
     "metadata": {},
     "output_type": "execute_result"
    }
   ],
   "source": [
    "sentence = \"R and Python are useful data science tools for the new or old data scientists who eager to do efficent data science task\"\n",
    "sentence"
   ]
  },
  {
   "cell_type": "code",
   "execution_count": 135,
   "id": "4b871e09-5d82-4884-8d4a-1f82076b62f5",
   "metadata": {},
   "outputs": [
    {
     "data": {
      "text/plain": [
       "[('R', 'NNP'),\n",
       " ('and', 'CC'),\n",
       " ('Python', 'NNP'),\n",
       " ('are', 'VBP'),\n",
       " ('useful', 'JJ'),\n",
       " ('data', 'NNS'),\n",
       " ('science', 'NN'),\n",
       " ('tools', 'NNS'),\n",
       " ('for', 'IN'),\n",
       " ('the', 'DT'),\n",
       " ('new', 'JJ'),\n",
       " ('or', 'CC'),\n",
       " ('old', 'JJ'),\n",
       " ('data', 'NNS'),\n",
       " ('scientists', 'NNS'),\n",
       " ('who', 'WP'),\n",
       " ('eager', 'VBP'),\n",
       " ('to', 'TO'),\n",
       " ('do', 'VB'),\n",
       " ('efficent', 'JJ'),\n",
       " ('data', 'NNS'),\n",
       " ('science', 'NN'),\n",
       " ('task', 'NN')]"
      ]
     },
     "execution_count": 135,
     "metadata": {},
     "output_type": "execute_result"
    }
   ],
   "source": [
    "pos = TextBlob(sentence).tags\n",
    "pos"
   ]
  },
  {
   "cell_type": "code",
   "execution_count": 144,
   "id": "861af461-2d04-4c54-be6b-72604172f175",
   "metadata": {},
   "outputs": [
    {
     "name": "stdout",
     "output_type": "stream",
     "text": [
      "Requirement already satisfied: svgling in c:\\users\\ali\\anaconda3\\lib\\site-packages (0.5.0)\n",
      "Requirement already satisfied: svgwrite in c:\\users\\ali\\anaconda3\\lib\\site-packages (from svgling) (1.4.3)\n",
      "Note: you may need to restart the kernel to use updated packages.\n"
     ]
    }
   ],
   "source": [
    "pip install svgling"
   ]
  },
  {
   "cell_type": "code",
   "execution_count": 146,
   "id": "6cdeef8f-3443-4b20-81a8-0329afc36277",
   "metadata": {},
   "outputs": [
    {
     "data": {
      "image/svg+xml": [
       "<svg baseProfile=\"full\" height=\"168px\" preserveAspectRatio=\"xMidYMid meet\" style=\"font-family: times, serif; font-weight: normal; font-style: normal; font-size: 16px\" version=\"1.1\" viewBox=\"0,0,1168.0,168.0\" width=\"1168px\" xmlns=\"http://www.w3.org/2000/svg\" xmlns:ev=\"http://www.w3.org/2001/xml-events\" xmlns:xlink=\"http://www.w3.org/1999/xlink\"><defs /><svg width=\"100%\" x=\"0\" y=\"0px\"><defs /><text text-anchor=\"middle\" x=\"50%\" y=\"16px\">S</text></svg><svg width=\"3.42466%\" x=\"0%\" y=\"48px\"><defs /><svg width=\"100%\" x=\"0\" y=\"0px\"><defs /><text text-anchor=\"middle\" x=\"50%\" y=\"16px\">R</text></svg><svg width=\"100%\" x=\"0%\" y=\"48px\"><defs /><svg width=\"100%\" x=\"0\" y=\"0px\"><defs /><text text-anchor=\"middle\" x=\"50%\" y=\"16px\">NNP</text></svg></svg><line stroke=\"black\" x1=\"50%\" x2=\"50%\" y1=\"20px\" y2=\"48px\" /></svg><line stroke=\"black\" x1=\"50%\" x2=\"1.71233%\" y1=\"20px\" y2=\"48px\" /><svg width=\"3.42466%\" x=\"3.42466%\" y=\"48px\"><defs /><svg width=\"100%\" x=\"0\" y=\"0px\"><defs /><text text-anchor=\"middle\" x=\"50%\" y=\"16px\">and</text></svg><svg width=\"100%\" x=\"0%\" y=\"48px\"><defs /><svg width=\"100%\" x=\"0\" y=\"0px\"><defs /><text text-anchor=\"middle\" x=\"50%\" y=\"16px\">CC</text></svg></svg><line stroke=\"black\" x1=\"50%\" x2=\"50%\" y1=\"20px\" y2=\"48px\" /></svg><line stroke=\"black\" x1=\"50%\" x2=\"5.13699%\" y1=\"20px\" y2=\"48px\" /><svg width=\"5.47945%\" x=\"6.84932%\" y=\"48px\"><defs /><svg width=\"100%\" x=\"0\" y=\"0px\"><defs /><text text-anchor=\"middle\" x=\"50%\" y=\"16px\">Python</text></svg><svg width=\"100%\" x=\"0%\" y=\"48px\"><defs /><svg width=\"100%\" x=\"0\" y=\"0px\"><defs /><text text-anchor=\"middle\" x=\"50%\" y=\"16px\">NNP</text></svg></svg><line stroke=\"black\" x1=\"50%\" x2=\"50%\" y1=\"20px\" y2=\"48px\" /></svg><line stroke=\"black\" x1=\"50%\" x2=\"9.58904%\" y1=\"20px\" y2=\"48px\" /><svg width=\"3.42466%\" x=\"12.3288%\" y=\"48px\"><defs /><svg width=\"100%\" x=\"0\" y=\"0px\"><defs /><text text-anchor=\"middle\" x=\"50%\" y=\"16px\">are</text></svg><svg width=\"100%\" x=\"0%\" y=\"48px\"><defs /><svg width=\"100%\" x=\"0\" y=\"0px\"><defs /><text text-anchor=\"middle\" x=\"50%\" y=\"16px\">VBP</text></svg></svg><line stroke=\"black\" x1=\"50%\" x2=\"50%\" y1=\"20px\" y2=\"48px\" /></svg><line stroke=\"black\" x1=\"50%\" x2=\"14.0411%\" y1=\"20px\" y2=\"48px\" /><svg width=\"5.47945%\" x=\"15.7534%\" y=\"48px\"><defs /><svg width=\"100%\" x=\"0\" y=\"0px\"><defs /><text text-anchor=\"middle\" x=\"50%\" y=\"16px\">useful</text></svg><svg width=\"100%\" x=\"0%\" y=\"48px\"><defs /><svg width=\"100%\" x=\"0\" y=\"0px\"><defs /><text text-anchor=\"middle\" x=\"50%\" y=\"16px\">JJ</text></svg></svg><line stroke=\"black\" x1=\"50%\" x2=\"50%\" y1=\"20px\" y2=\"48px\" /></svg><line stroke=\"black\" x1=\"50%\" x2=\"18.4932%\" y1=\"20px\" y2=\"48px\" /><svg width=\"4.10959%\" x=\"21.2329%\" y=\"48px\"><defs /><svg width=\"100%\" x=\"0\" y=\"0px\"><defs /><text text-anchor=\"middle\" x=\"50%\" y=\"16px\">data</text></svg><svg width=\"100%\" x=\"0%\" y=\"48px\"><defs /><svg width=\"100%\" x=\"0\" y=\"0px\"><defs /><text text-anchor=\"middle\" x=\"50%\" y=\"16px\">NNS</text></svg></svg><line stroke=\"black\" x1=\"50%\" x2=\"50%\" y1=\"20px\" y2=\"48px\" /></svg><line stroke=\"black\" x1=\"50%\" x2=\"23.2877%\" y1=\"20px\" y2=\"48px\" /><svg width=\"6.16438%\" x=\"25.3425%\" y=\"48px\"><defs /><svg width=\"100%\" x=\"0\" y=\"0px\"><defs /><text text-anchor=\"middle\" x=\"50%\" y=\"16px\">NP</text></svg><svg width=\"100%\" x=\"0%\" y=\"48px\"><defs /><svg width=\"100%\" x=\"0\" y=\"0px\"><defs /><text text-anchor=\"middle\" x=\"50%\" y=\"16px\">science</text></svg><svg width=\"100%\" x=\"0%\" y=\"48px\"><defs /><svg width=\"100%\" x=\"0\" y=\"0px\"><defs /><text text-anchor=\"middle\" x=\"50%\" y=\"16px\">NN</text></svg></svg><line stroke=\"black\" x1=\"50%\" x2=\"50%\" y1=\"20px\" y2=\"48px\" /></svg><line stroke=\"black\" x1=\"50%\" x2=\"50%\" y1=\"20px\" y2=\"48px\" /></svg><line stroke=\"black\" x1=\"50%\" x2=\"28.4247%\" y1=\"20px\" y2=\"48px\" /><svg width=\"4.79452%\" x=\"31.5068%\" y=\"48px\"><defs /><svg width=\"100%\" x=\"0\" y=\"0px\"><defs /><text text-anchor=\"middle\" x=\"50%\" y=\"16px\">tools</text></svg><svg width=\"100%\" x=\"0%\" y=\"48px\"><defs /><svg width=\"100%\" x=\"0\" y=\"0px\"><defs /><text text-anchor=\"middle\" x=\"50%\" y=\"16px\">NNS</text></svg></svg><line stroke=\"black\" x1=\"50%\" x2=\"50%\" y1=\"20px\" y2=\"48px\" /></svg><line stroke=\"black\" x1=\"50%\" x2=\"33.9041%\" y1=\"20px\" y2=\"48px\" /><svg width=\"3.42466%\" x=\"36.3014%\" y=\"48px\"><defs /><svg width=\"100%\" x=\"0\" y=\"0px\"><defs /><text text-anchor=\"middle\" x=\"50%\" y=\"16px\">for</text></svg><svg width=\"100%\" x=\"0%\" y=\"48px\"><defs /><svg width=\"100%\" x=\"0\" y=\"0px\"><defs /><text text-anchor=\"middle\" x=\"50%\" y=\"16px\">IN</text></svg></svg><line stroke=\"black\" x1=\"50%\" x2=\"50%\" y1=\"20px\" y2=\"48px\" /></svg><line stroke=\"black\" x1=\"50%\" x2=\"38.0137%\" y1=\"20px\" y2=\"48px\" /><svg width=\"3.42466%\" x=\"39.726%\" y=\"48px\"><defs /><svg width=\"100%\" x=\"0\" y=\"0px\"><defs /><text text-anchor=\"middle\" x=\"50%\" y=\"16px\">the</text></svg><svg width=\"100%\" x=\"0%\" y=\"48px\"><defs /><svg width=\"100%\" x=\"0\" y=\"0px\"><defs /><text text-anchor=\"middle\" x=\"50%\" y=\"16px\">DT</text></svg></svg><line stroke=\"black\" x1=\"50%\" x2=\"50%\" y1=\"20px\" y2=\"48px\" /></svg><line stroke=\"black\" x1=\"50%\" x2=\"41.4384%\" y1=\"20px\" y2=\"48px\" /><svg width=\"3.42466%\" x=\"43.1507%\" y=\"48px\"><defs /><svg width=\"100%\" x=\"0\" y=\"0px\"><defs /><text text-anchor=\"middle\" x=\"50%\" y=\"16px\">new</text></svg><svg width=\"100%\" x=\"0%\" y=\"48px\"><defs /><svg width=\"100%\" x=\"0\" y=\"0px\"><defs /><text text-anchor=\"middle\" x=\"50%\" y=\"16px\">JJ</text></svg></svg><line stroke=\"black\" x1=\"50%\" x2=\"50%\" y1=\"20px\" y2=\"48px\" /></svg><line stroke=\"black\" x1=\"50%\" x2=\"44.863%\" y1=\"20px\" y2=\"48px\" /><svg width=\"2.73973%\" x=\"46.5753%\" y=\"48px\"><defs /><svg width=\"100%\" x=\"0\" y=\"0px\"><defs /><text text-anchor=\"middle\" x=\"50%\" y=\"16px\">or</text></svg><svg width=\"100%\" x=\"0%\" y=\"48px\"><defs /><svg width=\"100%\" x=\"0\" y=\"0px\"><defs /><text text-anchor=\"middle\" x=\"50%\" y=\"16px\">CC</text></svg></svg><line stroke=\"black\" x1=\"50%\" x2=\"50%\" y1=\"20px\" y2=\"48px\" /></svg><line stroke=\"black\" x1=\"50%\" x2=\"47.9452%\" y1=\"20px\" y2=\"48px\" /><svg width=\"3.42466%\" x=\"49.3151%\" y=\"48px\"><defs /><svg width=\"100%\" x=\"0\" y=\"0px\"><defs /><text text-anchor=\"middle\" x=\"50%\" y=\"16px\">old</text></svg><svg width=\"100%\" x=\"0%\" y=\"48px\"><defs /><svg width=\"100%\" x=\"0\" y=\"0px\"><defs /><text text-anchor=\"middle\" x=\"50%\" y=\"16px\">JJ</text></svg></svg><line stroke=\"black\" x1=\"50%\" x2=\"50%\" y1=\"20px\" y2=\"48px\" /></svg><line stroke=\"black\" x1=\"50%\" x2=\"51.0274%\" y1=\"20px\" y2=\"48px\" /><svg width=\"4.10959%\" x=\"52.7397%\" y=\"48px\"><defs /><svg width=\"100%\" x=\"0\" y=\"0px\"><defs /><text text-anchor=\"middle\" x=\"50%\" y=\"16px\">data</text></svg><svg width=\"100%\" x=\"0%\" y=\"48px\"><defs /><svg width=\"100%\" x=\"0\" y=\"0px\"><defs /><text text-anchor=\"middle\" x=\"50%\" y=\"16px\">NNS</text></svg></svg><line stroke=\"black\" x1=\"50%\" x2=\"50%\" y1=\"20px\" y2=\"48px\" /></svg><line stroke=\"black\" x1=\"50%\" x2=\"54.7945%\" y1=\"20px\" y2=\"48px\" /><svg width=\"8.21918%\" x=\"56.8493%\" y=\"48px\"><defs /><svg width=\"100%\" x=\"0\" y=\"0px\"><defs /><text text-anchor=\"middle\" x=\"50%\" y=\"16px\">scientists</text></svg><svg width=\"100%\" x=\"0%\" y=\"48px\"><defs /><svg width=\"100%\" x=\"0\" y=\"0px\"><defs /><text text-anchor=\"middle\" x=\"50%\" y=\"16px\">NNS</text></svg></svg><line stroke=\"black\" x1=\"50%\" x2=\"50%\" y1=\"20px\" y2=\"48px\" /></svg><line stroke=\"black\" x1=\"50%\" x2=\"60.9589%\" y1=\"20px\" y2=\"48px\" /><svg width=\"3.42466%\" x=\"65.0685%\" y=\"48px\"><defs /><svg width=\"100%\" x=\"0\" y=\"0px\"><defs /><text text-anchor=\"middle\" x=\"50%\" y=\"16px\">who</text></svg><svg width=\"100%\" x=\"0%\" y=\"48px\"><defs /><svg width=\"100%\" x=\"0\" y=\"0px\"><defs /><text text-anchor=\"middle\" x=\"50%\" y=\"16px\">WP</text></svg></svg><line stroke=\"black\" x1=\"50%\" x2=\"50%\" y1=\"20px\" y2=\"48px\" /></svg><line stroke=\"black\" x1=\"50%\" x2=\"66.7808%\" y1=\"20px\" y2=\"48px\" /><svg width=\"4.79452%\" x=\"68.4932%\" y=\"48px\"><defs /><svg width=\"100%\" x=\"0\" y=\"0px\"><defs /><text text-anchor=\"middle\" x=\"50%\" y=\"16px\">eager</text></svg><svg width=\"100%\" x=\"0%\" y=\"48px\"><defs /><svg width=\"100%\" x=\"0\" y=\"0px\"><defs /><text text-anchor=\"middle\" x=\"50%\" y=\"16px\">VBP</text></svg></svg><line stroke=\"black\" x1=\"50%\" x2=\"50%\" y1=\"20px\" y2=\"48px\" /></svg><line stroke=\"black\" x1=\"50%\" x2=\"70.8904%\" y1=\"20px\" y2=\"48px\" /><svg width=\"2.73973%\" x=\"73.2877%\" y=\"48px\"><defs /><svg width=\"100%\" x=\"0\" y=\"0px\"><defs /><text text-anchor=\"middle\" x=\"50%\" y=\"16px\">to</text></svg><svg width=\"100%\" x=\"0%\" y=\"48px\"><defs /><svg width=\"100%\" x=\"0\" y=\"0px\"><defs /><text text-anchor=\"middle\" x=\"50%\" y=\"16px\">TO</text></svg></svg><line stroke=\"black\" x1=\"50%\" x2=\"50%\" y1=\"20px\" y2=\"48px\" /></svg><line stroke=\"black\" x1=\"50%\" x2=\"74.6575%\" y1=\"20px\" y2=\"48px\" /><svg width=\"2.73973%\" x=\"76.0274%\" y=\"48px\"><defs /><svg width=\"100%\" x=\"0\" y=\"0px\"><defs /><text text-anchor=\"middle\" x=\"50%\" y=\"16px\">do</text></svg><svg width=\"100%\" x=\"0%\" y=\"48px\"><defs /><svg width=\"100%\" x=\"0\" y=\"0px\"><defs /><text text-anchor=\"middle\" x=\"50%\" y=\"16px\">VB</text></svg></svg><line stroke=\"black\" x1=\"50%\" x2=\"50%\" y1=\"20px\" y2=\"48px\" /></svg><line stroke=\"black\" x1=\"50%\" x2=\"77.3973%\" y1=\"20px\" y2=\"48px\" /><svg width=\"6.84932%\" x=\"78.7671%\" y=\"48px\"><defs /><svg width=\"100%\" x=\"0\" y=\"0px\"><defs /><text text-anchor=\"middle\" x=\"50%\" y=\"16px\">efficent</text></svg><svg width=\"100%\" x=\"0%\" y=\"48px\"><defs /><svg width=\"100%\" x=\"0\" y=\"0px\"><defs /><text text-anchor=\"middle\" x=\"50%\" y=\"16px\">JJ</text></svg></svg><line stroke=\"black\" x1=\"50%\" x2=\"50%\" y1=\"20px\" y2=\"48px\" /></svg><line stroke=\"black\" x1=\"50%\" x2=\"82.1918%\" y1=\"20px\" y2=\"48px\" /><svg width=\"4.10959%\" x=\"85.6164%\" y=\"48px\"><defs /><svg width=\"100%\" x=\"0\" y=\"0px\"><defs /><text text-anchor=\"middle\" x=\"50%\" y=\"16px\">data</text></svg><svg width=\"100%\" x=\"0%\" y=\"48px\"><defs /><svg width=\"100%\" x=\"0\" y=\"0px\"><defs /><text text-anchor=\"middle\" x=\"50%\" y=\"16px\">NNS</text></svg></svg><line stroke=\"black\" x1=\"50%\" x2=\"50%\" y1=\"20px\" y2=\"48px\" /></svg><line stroke=\"black\" x1=\"50%\" x2=\"87.6712%\" y1=\"20px\" y2=\"48px\" /><svg width=\"6.16438%\" x=\"89.726%\" y=\"48px\"><defs /><svg width=\"100%\" x=\"0\" y=\"0px\"><defs /><text text-anchor=\"middle\" x=\"50%\" y=\"16px\">NP</text></svg><svg width=\"100%\" x=\"0%\" y=\"48px\"><defs /><svg width=\"100%\" x=\"0\" y=\"0px\"><defs /><text text-anchor=\"middle\" x=\"50%\" y=\"16px\">science</text></svg><svg width=\"100%\" x=\"0%\" y=\"48px\"><defs /><svg width=\"100%\" x=\"0\" y=\"0px\"><defs /><text text-anchor=\"middle\" x=\"50%\" y=\"16px\">NN</text></svg></svg><line stroke=\"black\" x1=\"50%\" x2=\"50%\" y1=\"20px\" y2=\"48px\" /></svg><line stroke=\"black\" x1=\"50%\" x2=\"50%\" y1=\"20px\" y2=\"48px\" /></svg><line stroke=\"black\" x1=\"50%\" x2=\"92.8082%\" y1=\"20px\" y2=\"48px\" /><svg width=\"4.10959%\" x=\"95.8904%\" y=\"48px\"><defs /><svg width=\"100%\" x=\"0\" y=\"0px\"><defs /><text text-anchor=\"middle\" x=\"50%\" y=\"16px\">NP</text></svg><svg width=\"100%\" x=\"0%\" y=\"48px\"><defs /><svg width=\"100%\" x=\"0\" y=\"0px\"><defs /><text text-anchor=\"middle\" x=\"50%\" y=\"16px\">task</text></svg><svg width=\"100%\" x=\"0%\" y=\"48px\"><defs /><svg width=\"100%\" x=\"0\" y=\"0px\"><defs /><text text-anchor=\"middle\" x=\"50%\" y=\"16px\">NN</text></svg></svg><line stroke=\"black\" x1=\"50%\" x2=\"50%\" y1=\"20px\" y2=\"48px\" /></svg><line stroke=\"black\" x1=\"50%\" x2=\"50%\" y1=\"20px\" y2=\"48px\" /></svg><line stroke=\"black\" x1=\"50%\" x2=\"97.9452%\" y1=\"20px\" y2=\"48px\" /></svg>"
      ],
      "text/plain": [
       "Tree('S', [('R', 'NNP'), ('and', 'CC'), ('Python', 'NNP'), ('are', 'VBP'), ('useful', 'JJ'), ('data', 'NNS'), Tree('NP', [('science', 'NN')]), ('tools', 'NNS'), ('for', 'IN'), ('the', 'DT'), ('new', 'JJ'), ('or', 'CC'), ('old', 'JJ'), ('data', 'NNS'), ('scientists', 'NNS'), ('who', 'WP'), ('eager', 'VBP'), ('to', 'TO'), ('do', 'VB'), ('efficent', 'JJ'), ('data', 'NNS'), Tree('NP', [('science', 'NN')]), Tree('NP', [('task', 'NN')])])"
      ]
     },
     "execution_count": 146,
     "metadata": {},
     "output_type": "execute_result"
    }
   ],
   "source": [
    "reg_exp = \"NP: {<DT>?<JJ>*<NN>}\"\n",
    "rp = nltk.RegexpParser(reg_exp)\n",
    "results = rp.parse(pos)\n",
    "results"
   ]
  },
  {
   "cell_type": "code",
   "execution_count": 149,
   "id": "14309a51-4375-4dd3-9c4f-069d89505609",
   "metadata": {},
   "outputs": [
    {
     "name": "stdout",
     "output_type": "stream",
     "text": [
      "(S\n",
      "  R/NNP\n",
      "  and/CC\n",
      "  Python/NNP\n",
      "  are/VBP\n",
      "  useful/JJ\n",
      "  data/NNS\n",
      "  (NP science/NN)\n",
      "  tools/NNS\n",
      "  for/IN\n",
      "  the/DT\n",
      "  new/JJ\n",
      "  or/CC\n",
      "  old/JJ\n",
      "  data/NNS\n",
      "  scientists/NNS\n",
      "  who/WP\n",
      "  eager/VBP\n",
      "  to/TO\n",
      "  do/VB\n",
      "  efficent/JJ\n",
      "  data/NNS\n",
      "  (NP science/NN)\n",
      "  (NP task/NN))\n"
     ]
    }
   ],
   "source": [
    "print(results)"
   ]
  },
  {
   "cell_type": "code",
   "execution_count": 151,
   "id": "b54adff6-29a8-4992-96cb-358960c51669",
   "metadata": {},
   "outputs": [],
   "source": [
    "results.draw()"
   ]
  },
  {
   "cell_type": "markdown",
   "id": "3f9c9b7a-ecea-4de2-ab06-661121d8398e",
   "metadata": {
    "jp-MarkdownHeadingCollapsed": true
   },
   "source": [
    "### Named Entity Recognition\n",
    " * Named Entity Recognition (NER) is a Natural Language Processing (NLP) task that involves identifying and classifying named entities in text into predefined categories such as:\n",
    "\n",
    "    * Person names (e.g., \"Elon Musk\")\n",
    "    * Organizations (e.g., \"Google\", \"United Nations\")\n",
    "    * Locations (e.g., \"Paris\", \"Mount Everest\")\n",
    "    * Dates (e.g., \"January 1st, 2025\")\n",
    "    * Monetary values (e.g., \"$100\")\n",
    "    * Percentages (e.g., \"75%\")\n",
    "    * And more, depending on the system\n"
   ]
  },
  {
   "cell_type": "code",
   "execution_count": 158,
   "id": "014ed7cc-ab04-444f-8769-61900e77174f",
   "metadata": {},
   "outputs": [
    {
     "name": "stderr",
     "output_type": "stream",
     "text": [
      "[nltk_data] Downloading package maxent_ne_chunker_tab to\n",
      "[nltk_data]     C:\\Users\\ali\\AppData\\Roaming\\nltk_data...\n",
      "[nltk_data]   Unzipping chunkers\\maxent_ne_chunker_tab.zip.\n",
      "[nltk_data] Downloading package words to\n",
      "[nltk_data]     C:\\Users\\ali\\AppData\\Roaming\\nltk_data...\n",
      "[nltk_data]   Unzipping corpora\\words.zip.\n"
     ]
    },
    {
     "data": {
      "text/plain": [
       "True"
      ]
     },
     "execution_count": 158,
     "metadata": {},
     "output_type": "execute_result"
    }
   ],
   "source": [
    "from nltk import word_tokenize, pos_tag, ne_chunk\n",
    "nltk.download('maxent_ne_chunker_tab')\n",
    "nltk.download('words')"
   ]
  },
  {
   "cell_type": "code",
   "execution_count": 160,
   "id": "2706b76b-c8f1-4a10-8685-4c3288c557bb",
   "metadata": {},
   "outputs": [
    {
     "name": "stdout",
     "output_type": "stream",
     "text": [
      "(S\n",
      "  (GPE Hadley/NNP)\n",
      "  is/VBZ\n",
      "  creative/JJ\n",
      "  people/NNS\n",
      "  who/WP\n",
      "  work/VBP\n",
      "  for/IN\n",
      "  (ORGANIZATION R/NNP Studio/NNP)\n",
      "  AND/CC\n",
      "  he/PRP\n",
      "  attented/VBD\n",
      "  conference/NN\n",
      "  at/IN\n",
      "  (ORGANIZATION Newyork/NNP)\n",
      "  last/JJ\n",
      "  year/NN)\n"
     ]
    }
   ],
   "source": [
    "sentence = \"Hadley is creative people who work for R Studio AND he attented conference at Newyork last year\"\n",
    "print(ne_chunk(pos_tag(word_tokenize(sentence))))"
   ]
  },
  {
   "cell_type": "markdown",
   "id": "bea9de9d-8366-4871-84e1-6005bd76a7a9",
   "metadata": {},
   "source": [
    "## Mathematical Operations and Basic Feature Extraction\n",
    "\n",
    "* Our goal is to preprocess the raw data we have and obtain numerical frequencies that can represent this data."
   ]
  },
  {
   "cell_type": "markdown",
   "id": "3dea7d59-a97e-4000-a50d-0eeee22374db",
   "metadata": {
    "jp-MarkdownHeadingCollapsed": true
   },
   "source": [
    "### Letter/Character Count"
   ]
  },
  {
   "cell_type": "code",
   "execution_count": 170,
   "id": "a0c709e0-057a-4f89-a2da-b67ef095b15b",
   "metadata": {},
   "outputs": [
    {
     "data": {
      "text/plain": [
       "1               scandal bohemia\n",
       "2              redheaded league\n",
       "3                 case identity\n",
       "4       boscombe valley mystery\n",
       "5              five orange pips\n",
       "6               man twisted lip\n",
       "7      adventure blue carbuncle\n",
       "8       adventure speckled band\n",
       "9     adventure engineers thumb\n",
       "10     adventure noble bachelor\n",
       "11      adventure beryl coronet\n",
       "12     adventure copper beeches\n",
       "Name: Sherlock Holmes Novels, dtype: object"
      ]
     },
     "execution_count": 170,
     "metadata": {},
     "output_type": "execute_result"
    }
   ],
   "source": [
    "text5"
   ]
  },
  {
   "cell_type": "code",
   "execution_count": 179,
   "id": "0a6da3b5-1ac1-49cf-8597-4e0e364f7c03",
   "metadata": {},
   "outputs": [
    {
     "data": {
      "text/plain": [
       "1     15\n",
       "2     16\n",
       "3     13\n",
       "4     23\n",
       "5     16\n",
       "6     15\n",
       "7     24\n",
       "8     23\n",
       "9     25\n",
       "10    24\n",
       "11    23\n",
       "12    24\n",
       "Name: Sherlock Holmes Novels, dtype: int64"
      ]
     },
     "execution_count": 179,
     "metadata": {},
     "output_type": "execute_result"
    }
   ],
   "source": [
    "text5.str.len() # used to compute the length of each string"
   ]
  },
  {
   "cell_type": "code",
   "execution_count": 182,
   "id": "8d7a6380-6e1b-4f31-a8cb-a6dde67bc279",
   "metadata": {},
   "outputs": [
    {
     "data": {
      "text/html": [
       "<div>\n",
       "<style scoped>\n",
       "    .dataframe tbody tr th:only-of-type {\n",
       "        vertical-align: middle;\n",
       "    }\n",
       "\n",
       "    .dataframe tbody tr th {\n",
       "        vertical-align: top;\n",
       "    }\n",
       "\n",
       "    .dataframe thead th {\n",
       "        text-align: right;\n",
       "    }\n",
       "</style>\n",
       "<table border=\"1\" class=\"dataframe\">\n",
       "  <thead>\n",
       "    <tr style=\"text-align: right;\">\n",
       "      <th></th>\n",
       "      <th>Sherlock Holmes Novels</th>\n",
       "    </tr>\n",
       "  </thead>\n",
       "  <tbody>\n",
       "    <tr>\n",
       "      <th>1</th>\n",
       "      <td>scandal bohemia</td>\n",
       "    </tr>\n",
       "    <tr>\n",
       "      <th>2</th>\n",
       "      <td>redheaded league</td>\n",
       "    </tr>\n",
       "    <tr>\n",
       "      <th>3</th>\n",
       "      <td>case identity</td>\n",
       "    </tr>\n",
       "    <tr>\n",
       "      <th>4</th>\n",
       "      <td>boscombe valley mystery</td>\n",
       "    </tr>\n",
       "    <tr>\n",
       "      <th>5</th>\n",
       "      <td>five orange pips</td>\n",
       "    </tr>\n",
       "    <tr>\n",
       "      <th>6</th>\n",
       "      <td>man twisted lip</td>\n",
       "    </tr>\n",
       "    <tr>\n",
       "      <th>7</th>\n",
       "      <td>adventure blue carbuncle</td>\n",
       "    </tr>\n",
       "    <tr>\n",
       "      <th>8</th>\n",
       "      <td>adventure speckled band</td>\n",
       "    </tr>\n",
       "    <tr>\n",
       "      <th>9</th>\n",
       "      <td>adventure engineers thumb</td>\n",
       "    </tr>\n",
       "    <tr>\n",
       "      <th>10</th>\n",
       "      <td>adventure noble bachelor</td>\n",
       "    </tr>\n",
       "    <tr>\n",
       "      <th>11</th>\n",
       "      <td>adventure beryl coronet</td>\n",
       "    </tr>\n",
       "    <tr>\n",
       "      <th>12</th>\n",
       "      <td>adventure copper beeches</td>\n",
       "    </tr>\n",
       "  </tbody>\n",
       "</table>\n",
       "</div>"
      ],
      "text/plain": [
       "       Sherlock Holmes Novels\n",
       "1             scandal bohemia\n",
       "2            redheaded league\n",
       "3               case identity\n",
       "4     boscombe valley mystery\n",
       "5            five orange pips\n",
       "6             man twisted lip\n",
       "7    adventure blue carbuncle\n",
       "8     adventure speckled band\n",
       "9   adventure engineers thumb\n",
       "10   adventure noble bachelor\n",
       "11    adventure beryl coronet\n",
       "12   adventure copper beeches"
      ]
     },
     "execution_count": 182,
     "metadata": {},
     "output_type": "execute_result"
    }
   ],
   "source": [
    "text5 = pd.DataFrame(text5)\n",
    "text5"
   ]
  },
  {
   "cell_type": "code",
   "execution_count": 187,
   "id": "a23294bb-58ac-463d-85f4-07b4a908a642",
   "metadata": {},
   "outputs": [
    {
     "data": {
      "text/html": [
       "<div>\n",
       "<style scoped>\n",
       "    .dataframe tbody tr th:only-of-type {\n",
       "        vertical-align: middle;\n",
       "    }\n",
       "\n",
       "    .dataframe tbody tr th {\n",
       "        vertical-align: top;\n",
       "    }\n",
       "\n",
       "    .dataframe thead th {\n",
       "        text-align: right;\n",
       "    }\n",
       "</style>\n",
       "<table border=\"1\" class=\"dataframe\">\n",
       "  <thead>\n",
       "    <tr style=\"text-align: right;\">\n",
       "      <th></th>\n",
       "      <th>Sherlock Holmes Novels</th>\n",
       "      <th>letter_count</th>\n",
       "    </tr>\n",
       "  </thead>\n",
       "  <tbody>\n",
       "    <tr>\n",
       "      <th>1</th>\n",
       "      <td>scandal bohemia</td>\n",
       "      <td>15</td>\n",
       "    </tr>\n",
       "    <tr>\n",
       "      <th>2</th>\n",
       "      <td>redheaded league</td>\n",
       "      <td>16</td>\n",
       "    </tr>\n",
       "    <tr>\n",
       "      <th>3</th>\n",
       "      <td>case identity</td>\n",
       "      <td>13</td>\n",
       "    </tr>\n",
       "    <tr>\n",
       "      <th>4</th>\n",
       "      <td>boscombe valley mystery</td>\n",
       "      <td>23</td>\n",
       "    </tr>\n",
       "    <tr>\n",
       "      <th>5</th>\n",
       "      <td>five orange pips</td>\n",
       "      <td>16</td>\n",
       "    </tr>\n",
       "    <tr>\n",
       "      <th>6</th>\n",
       "      <td>man twisted lip</td>\n",
       "      <td>15</td>\n",
       "    </tr>\n",
       "    <tr>\n",
       "      <th>7</th>\n",
       "      <td>adventure blue carbuncle</td>\n",
       "      <td>24</td>\n",
       "    </tr>\n",
       "    <tr>\n",
       "      <th>8</th>\n",
       "      <td>adventure speckled band</td>\n",
       "      <td>23</td>\n",
       "    </tr>\n",
       "    <tr>\n",
       "      <th>9</th>\n",
       "      <td>adventure engineers thumb</td>\n",
       "      <td>25</td>\n",
       "    </tr>\n",
       "    <tr>\n",
       "      <th>10</th>\n",
       "      <td>adventure noble bachelor</td>\n",
       "      <td>24</td>\n",
       "    </tr>\n",
       "    <tr>\n",
       "      <th>11</th>\n",
       "      <td>adventure beryl coronet</td>\n",
       "      <td>23</td>\n",
       "    </tr>\n",
       "    <tr>\n",
       "      <th>12</th>\n",
       "      <td>adventure copper beeches</td>\n",
       "      <td>24</td>\n",
       "    </tr>\n",
       "  </tbody>\n",
       "</table>\n",
       "</div>"
      ],
      "text/plain": [
       "       Sherlock Holmes Novels  letter_count\n",
       "1             scandal bohemia            15\n",
       "2            redheaded league            16\n",
       "3               case identity            13\n",
       "4     boscombe valley mystery            23\n",
       "5            five orange pips            16\n",
       "6             man twisted lip            15\n",
       "7    adventure blue carbuncle            24\n",
       "8     adventure speckled band            23\n",
       "9   adventure engineers thumb            25\n",
       "10   adventure noble bachelor            24\n",
       "11    adventure beryl coronet            23\n",
       "12   adventure copper beeches            24"
      ]
     },
     "execution_count": 187,
     "metadata": {},
     "output_type": "execute_result"
    }
   ],
   "source": [
    "text5[\"letter_count\"] = text5[\"Sherlock Holmes Novels\"].str.len()\n",
    "# In this way, the character counts are also added as a column.\n",
    "text5"
   ]
  },
  {
   "cell_type": "markdown",
   "id": "aacb501f-f383-4df7-9d02-65d091cc1b36",
   "metadata": {},
   "source": [
    "### Number of word"
   ]
  },
  {
   "cell_type": "code",
   "execution_count": null,
   "id": "f3580284-68ae-4c07-b5b8-6c01da1230f9",
   "metadata": {},
   "outputs": [],
   "source": []
  }
 ],
 "metadata": {
  "kernelspec": {
   "display_name": "Python [conda env:base] *",
   "language": "python",
   "name": "conda-base-py"
  },
  "language_info": {
   "codemirror_mode": {
    "name": "ipython",
    "version": 3
   },
   "file_extension": ".py",
   "mimetype": "text/x-python",
   "name": "python",
   "nbconvert_exporter": "python",
   "pygments_lexer": "ipython3",
   "version": "3.12.7"
  }
 },
 "nbformat": 4,
 "nbformat_minor": 5
}
